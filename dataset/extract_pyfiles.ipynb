{
  "nbformat": 4,
  "nbformat_minor": 0,
  "metadata": {
    "colab": {
      "provenance": []
    },
    "kernelspec": {
      "name": "python3",
      "display_name": "Python 3"
    },
    "language_info": {
      "name": "python"
    },
    "accelerator": "GPU",
    "gpuClass": "standard"
  },
  "cells": [
    {
      "cell_type": "code",
      "source": [
        "from google.colab import drive\n",
        "drive.mount('/content/drive')"
      ],
      "metadata": {
        "colab": {
          "base_uri": "https://localhost:8080/"
        },
        "id": "t7csRW07pe6p",
        "outputId": "002dea59-27e8-4a2f-f18f-aaec44089fe1"
      },
      "execution_count": null,
      "outputs": [
        {
          "output_type": "stream",
          "name": "stdout",
          "text": [
            "Drive already mounted at /content/drive; to attempt to forcibly remount, call drive.mount(\"/content/drive\", force_remount=True).\n"
          ]
        }
      ]
    },
    {
      "cell_type": "code",
      "source": [
        "import glob"
      ],
      "metadata": {
        "id": "r_7aD4NTuMZH"
      },
      "execution_count": null,
      "outputs": []
    },
    {
      "cell_type": "code",
      "source": [
        "!ls -d ../content/drive/MyDrive/py_dataset/*/ | wc -l"
      ],
      "metadata": {
        "colab": {
          "base_uri": "https://localhost:8080/"
        },
        "id": "PX0uzg4BsNiO",
        "outputId": "843307c9-35f7-4caa-e03e-6d3a21c1e9df"
      },
      "execution_count": null,
      "outputs": [
        {
          "output_type": "stream",
          "name": "stdout",
          "text": [
            "517\n"
          ]
        }
      ]
    },
    {
      "cell_type": "code",
      "source": [
        "import shutil\n"
      ],
      "metadata": {
        "id": "RjjGF23DyHb3"
      },
      "execution_count": null,
      "outputs": []
    },
    {
      "cell_type": "code",
      "source": [
        "l = !ls -d ../content/drive/MyDrive/py_dataset/*/ \n",
        "print(l)"
      ],
      "metadata": {
        "colab": {
          "base_uri": "https://localhost:8080/"
        },
        "id": "g3Kp3GtWxrdJ",
        "outputId": "c748c8f5-0c1e-4440-fc86-618369849771"
      },
      "execution_count": null,
      "outputs": [
        {
          "output_type": "stream",
          "name": "stdout",
          "text": [
            "['../content/drive/MyDrive/py_dataset/absolufy-imports/', '../content/drive/MyDrive/py_dataset/accountsgenbot/', '../content/drive/MyDrive/py_dataset/ace-attorney-reddit-bot/', '../content/drive/MyDrive/py_dataset/ace-attorney-twitter-bot/', '../content/drive/MyDrive/py_dataset/acolite/', '../content/drive/MyDrive/py_dataset/actionserverless/', '../content/drive/MyDrive/py_dataset/actions-includes/', '../content/drive/MyDrive/py_dataset/actions-sduhealthreport/', '../content/drive/MyDrive/py_dataset/adv-auto-filter-bot/', '../content/drive/MyDrive/py_dataset/agenda/', '../content/drive/MyDrive/py_dataset/airpwn-ng/', '../content/drive/MyDrive/py_dataset/aistplusplus_api/', '../content/drive/MyDrive/py_dataset/algo-phantoms-backend/', '../content/drive/MyDrive/py_dataset/algo-scriptml/', '../content/drive/MyDrive/py_dataset/amazon-ray/', '../content/drive/MyDrive/py_dataset/ape-safe/', '../content/drive/MyDrive/py_dataset/aphantasia/', '../content/drive/MyDrive/py_dataset/apilogicserver/', '../content/drive/MyDrive/py_dataset/aqaragateway/', '../content/drive/MyDrive/py_dataset/aquarium/', '../content/drive/MyDrive/py_dataset/arena-rosnav/', '../content/drive/MyDrive/py_dataset/argos/', '../content/drive/MyDrive/py_dataset/ark-invest-api/', '../content/drive/MyDrive/py_dataset/audacity_tools_for_blender/', '../content/drive/MyDrive/py_dataset/autodd_rev2/', '../content/drive/MyDrive/py_dataset/auto-filter-bot/', '../content/drive/MyDrive/py_dataset/auto-filter-bot-v2/', '../content/drive/MyDrive/py_dataset/autotss/', '../content/drive/MyDrive/py_dataset/awesome-pattern-matching/', '../content/drive/MyDrive/py_dataset/awesome-quincy-larson-emails/', '../content/drive/MyDrive/py_dataset/aws-allowlister/', '../content/drive/MyDrive/py_dataset/aws-quota-checker/', '../content/drive/MyDrive/py_dataset/ayoshalat/', '../content/drive/MyDrive/py_dataset/baidupcs-py/', '../content/drive/MyDrive/py_dataset/barlowtwins/', '../content/drive/MyDrive/py_dataset/beir/', '../content/drive/MyDrive/py_dataset/bendr/', '../content/drive/MyDrive/py_dataset/bernie-sits/', '../content/drive/MyDrive/py_dataset/bertbasedcorrectionmodels/', '../content/drive/MyDrive/py_dataset/best-of-python/', '../content/drive/MyDrive/py_dataset/best-of-python-dev/', '../content/drive/MyDrive/py_dataset/best-of-web-python/', '../content/drive/MyDrive/py_dataset/betterpython/', '../content/drive/MyDrive/py_dataset/bias-detector/', '../content/drive/MyDrive/py_dataset/big-bench/', '../content/drive/MyDrive/py_dataset/big-sleep/', '../content/drive/MyDrive/py_dataset/bitpack/', '../content/drive/MyDrive/py_dataset/blackmamba/', '../content/drive/MyDrive/py_dataset/blobhunter/', '../content/drive/MyDrive/py_dataset/bnn_priors/', '../content/drive/MyDrive/py_dataset/bottleneck-transformer-pytorch/', '../content/drive/MyDrive/py_dataset/brecq/', '../content/drive/MyDrive/py_dataset/brokenlinkhijacker/', '../content/drive/MyDrive/py_dataset/bruh-bot/', '../content/drive/MyDrive/py_dataset/btoa/', '../content/drive/MyDrive/py_dataset/build/', '../content/drive/MyDrive/py_dataset/buycoins-python/', '../content/drive/MyDrive/py_dataset/bvae-tts/', '../content/drive/MyDrive/py_dataset/bypass_utility/', '../content/drive/MyDrive/py_dataset/byte2speech/', '../content/drive/MyDrive/py_dataset/calculator-bot/', '../content/drive/MyDrive/py_dataset/calendar/', '../content/drive/MyDrive/py_dataset/callsmusic/', '../content/drive/MyDrive/py_dataset/canalyse/', '../content/drive/MyDrive/py_dataset/capital_gains_calculator/', '../content/drive/MyDrive/py_dataset/case-2021-shared-task/', '../content/drive/MyDrive/py_dataset/catpack/', '../content/drive/MyDrive/py_dataset/centernet2/', '../content/drive/MyDrive/py_dataset/centernet-pytorch-lightning/', '../content/drive/MyDrive/py_dataset/cgdms/', '../content/drive/MyDrive/py_dataset/changedetection.io/', '../content/drive/MyDrive/py_dataset/channelautopost/', '../content/drive/MyDrive/py_dataset/chinaunionline/', '../content/drive/MyDrive/py_dataset/ci_sdr/', '../content/drive/MyDrive/py_dataset/cjk-compsci-terms/', '../content/drive/MyDrive/py_dataset/ckconv/', '../content/drive/MyDrive/py_dataset/classrooms/', '../content/drive/MyDrive/py_dataset/classsr/', '../content/drive/MyDrive/py_dataset/cl-ica/', '../content/drive/MyDrive/py_dataset/clipbert/', '../content/drive/MyDrive/py_dataset/clistockstracker/', '../content/drive/MyDrive/py_dataset/clubhouse-py/', '../content/drive/MyDrive/py_dataset/cn_missemi/', '../content/drive/MyDrive/py_dataset/cointaxman/', '../content/drive/MyDrive/py_dataset/collare/', '../content/drive/MyDrive/py_dataset/comet-atomic-2020/', '../content/drive/MyDrive/py_dataset/compile-time-printer/', '../content/drive/MyDrive/py_dataset/computational-intelligence/', '../content/drive/MyDrive/py_dataset/conferencingspeech2021/', '../content/drive/MyDrive/py_dataset/conformer/', '../content/drive/MyDrive/py_dataset/consistency-adversarial/', '../content/drive/MyDrive/py_dataset/consolesnake/', '../content/drive/MyDrive/py_dataset/conversordemedidas_capuccinogelado/', '../content/drive/MyDrive/py_dataset/coolscripts/', '../content/drive/MyDrive/py_dataset/coordattention/', '../content/drive/MyDrive/py_dataset/cord-client-python/', '../content/drive/MyDrive/py_dataset/covid19-vaccination-subnational/', '../content/drive/MyDrive/py_dataset/cpapi/', '../content/drive/MyDrive/py_dataset/cp-flow/', '../content/drive/MyDrive/py_dataset/cqu_timetable_new/', '../content/drive/MyDrive/py_dataset/crafter/', '../content/drive/MyDrive/py_dataset/create-django-app/', '../content/drive/MyDrive/py_dataset/croniter/', '../content/drive/MyDrive/py_dataset/cryptoart-footprint/', '../content/drive/MyDrive/py_dataset/ctfbox/', '../content/drive/MyDrive/py_dataset/cve-2021-21972/', '../content/drive/MyDrive/py_dataset/d2go/', '../content/drive/MyDrive/py_dataset/dacy/', '../content/drive/MyDrive/py_dataset/daisy-x/', '../content/drive/MyDrive/py_dataset/dalle-mtf/', '../content/drive/MyDrive/py_dataset/dalle-pytorch/', '../content/drive/MyDrive/py_dataset/dash-vtk/', '../content/drive/MyDrive/py_dataset/data_driven_mpc/', '../content/drive/MyDrive/py_dataset/dataflow-geobeam/', '../content/drive/MyDrive/py_dataset/dbj/', '../content/drive/MyDrive/py_dataset/dbt-ml-preprocessing/', '../content/drive/MyDrive/py_dataset/dcoder/', '../content/drive/MyDrive/py_dataset/dd_monitor/', '../content/drive/MyDrive/py_dataset/ddrecorder/', '../content/drive/MyDrive/py_dataset/deep-daze/', '../content/drive/MyDrive/py_dataset/deepfake-scanner/', '../content/drive/MyDrive/py_dataset/deep-forest/', '../content/drive/MyDrive/py_dataset/deepstackpython/', '../content/drive/MyDrive/py_dataset/densephrases/', '../content/drive/MyDrive/py_dataset/depthai_blazepose/', '../content/drive/MyDrive/py_dataset/detector-de-mascaras/', '../content/drive/MyDrive/py_dataset/devresources/', '../content/drive/MyDrive/py_dataset/diambraenvironment/', '../content/drive/MyDrive/py_dataset/dianping_spider/', '../content/drive/MyDrive/py_dataset/diffmorph/', '../content/drive/MyDrive/py_dataset/diffusion-net/', '../content/drive/MyDrive/py_dataset/discord-nitro-gen-and-checker/', '../content/drive/MyDrive/py_dataset/dislash.py/', '../content/drive/MyDrive/py_dataset/django-blog-app/', '../content/drive/MyDrive/py_dataset/django-models/', '../content/drive/MyDrive/py_dataset/django-sms/', '../content/drive/MyDrive/py_dataset/django-sql-dashboard/', '../content/drive/MyDrive/py_dataset/dm_alchemy/', '../content/drive/MyDrive/py_dataset/dm_fast_mapping/', '../content/drive/MyDrive/py_dataset/docs/', '../content/drive/MyDrive/py_dataset/dotascience/', '../content/drive/MyDrive/py_dataset/dream-api/', '../content/drive/MyDrive/py_dataset/drlib/', '../content/drive/MyDrive/py_dataset/dsa/', '../content/drive/MyDrive/py_dataset/dydx-v3-python/', '../content/drive/MyDrive/py_dataset/easyauth/', '../content/drive/MyDrive/py_dataset/easy-few-shot-learning/', '../content/drive/MyDrive/py_dataset/easymocap/', '../content/drive/MyDrive/py_dataset/easynmt/', '../content/drive/MyDrive/py_dataset/easyroi/', '../content/drive/MyDrive/py_dataset/eden/', '../content/drive/MyDrive/py_dataset/egnn-pytorch/', '../content/drive/MyDrive/py_dataset/eicu-gnn-lstm/', '../content/drive/MyDrive/py_dataset/eksigundem/', '../content/drive/MyDrive/py_dataset/embedseg/', '../content/drive/MyDrive/py_dataset/engine/', '../content/drive/MyDrive/py_dataset/epsagon-kubernetes/', '../content/drive/MyDrive/py_dataset/erdantic/', '../content/drive/MyDrive/py_dataset/etas/', '../content/drive/MyDrive/py_dataset/eth_predictor_keras_unet/', '../content/drive/MyDrive/py_dataset/example-apps/', '../content/drive/MyDrive/py_dataset/extracted-files/', '../content/drive/MyDrive/py_dataset/facebook2rss/', '../content/drive/MyDrive/py_dataset/facex-zoo/', '../content/drive/MyDrive/py_dataset/fancyflags/', '../content/drive/MyDrive/py_dataset/fastapi-blog/', '../content/drive/MyDrive/py_dataset/fastapi_websocket_pubsub/', '../content/drive/MyDrive/py_dataset/fastapi_websocket_rpc/', '../content/drive/MyDrive/py_dataset/fastgan-pytorch/', '../content/drive/MyDrive/py_dataset/fastmoe/', '../content/drive/MyDrive/py_dataset/fastocr/', '../content/drive/MyDrive/py_dataset/fcanet/', '../content/drive/MyDrive/py_dataset/fcm_server_key/', '../content/drive/MyDrive/py_dataset/feapder/', '../content/drive/MyDrive/py_dataset/feature-templates/', '../content/drive/MyDrive/py_dataset/fhdhr/', '../content/drive/MyDrive/py_dataset/fifa21-autobidder/', '../content/drive/MyDrive/py_dataset/fish_text_ru/', '../content/drive/MyDrive/py_dataset/flake8-match/', '../content/drive/MyDrive/py_dataset/flappuccino/', '../content/drive/MyDrive/py_dataset/flow2ml/', '../content/drive/MyDrive/py_dataset/flyos/', '../content/drive/MyDrive/py_dataset/forecast-bottle/', '../content/drive/MyDrive/py_dataset/formulas-github/', '../content/drive/MyDrive/py_dataset/fossil-hr-sdk/', '../content/drive/MyDrive/py_dataset/fosslight_dependency/', '../content/drive/MyDrive/py_dataset/foxsay/', '../content/drive/MyDrive/py_dataset/ftlos/', '../content/drive/MyDrive/py_dataset/gansformer/', '../content/drive/MyDrive/py_dataset/gap-text2sql/', '../content/drive/MyDrive/py_dataset/gasbar/', '../content/drive/MyDrive/py_dataset/gedcom/', '../content/drive/MyDrive/py_dataset/genshin-gacha-export/', '../content/drive/MyDrive/py_dataset/geometric-vector-perceptron/', '../content/drive/MyDrive/py_dataset/girlfriend_text/', '../content/drive/MyDrive/py_dataset/git-plan/', '../content/drive/MyDrive/py_dataset/glass/', '../content/drive/MyDrive/py_dataset/gltf-blender-io-materials-variants/', '../content/drive/MyDrive/py_dataset/googlemeetbot/', '../content/drive/MyDrive/py_dataset/gprofiler/', '../content/drive/MyDrive/py_dataset/gradient-centralization-tensorflow/', '../content/drive/MyDrive/py_dataset/gradinit/', '../content/drive/MyDrive/py_dataset/gsdt/', '../content/drive/MyDrive/py_dataset/ha-dyson/', '../content/drive/MyDrive/py_dataset/ha-google-home/', '../content/drive/MyDrive/py_dataset/handmesh/', '../content/drive/MyDrive/py_dataset/haruhi-dl/', '../content/drive/MyDrive/py_dataset/hascal/', '../content/drive/MyDrive/py_dataset/hass-plate-recognizer/', '../content/drive/MyDrive/py_dataset/haut-checkin/', '../content/drive/MyDrive/py_dataset/hbctool/', '../content/drive/MyDrive/py_dataset/headsdown/', '../content/drive/MyDrive/py_dataset/hello-world/', '../content/drive/MyDrive/py_dataset/hermit-py/', '../content/drive/MyDrive/py_dataset/hexo-circle-of-friends/', '../content/drive/MyDrive/py_dataset/hoitransformer/', '../content/drive/MyDrive/py_dataset/honeypots/', '../content/drive/MyDrive/py_dataset/hotplugger/', '../content/drive/MyDrive/py_dataset/hotwire-django-realworld/', '../content/drive/MyDrive/py_dataset/htorch/', '../content/drive/MyDrive/py_dataset/huawei-store-go/', '../content/drive/MyDrive/py_dataset/humble-steam-key-redeemer/', '../content/drive/MyDrive/py_dataset/hushboard/', '../content/drive/MyDrive/py_dataset/hybrid_space/', '../content/drive/MyDrive/py_dataset/hypertag/', '../content/drive/MyDrive/py_dataset/i3expo-ng/', '../content/drive/MyDrive/py_dataset/icloud-drive-docker/', '../content/drive/MyDrive/py_dataset/igibsonchallenge2021/', '../content/drive/MyDrive/py_dataset/ikaros/', '../content/drive/MyDrive/py_dataset/imagecolorizer/', '../content/drive/MyDrive/py_dataset/image-editor/', '../content/drive/MyDrive/py_dataset/imagepaste/', '../content/drive/MyDrive/py_dataset/inkkeys/', '../content/drive/MyDrive/py_dataset/instavibes/', '../content/drive/MyDrive/py_dataset/intraday_nope_research/', '../content/drive/MyDrive/py_dataset/intro-opencv/', '../content/drive/MyDrive/py_dataset/irrigation_unlimited/', '../content/drive/MyDrive/py_dataset/ivy/', '../content/drive/MyDrive/py_dataset/jaal/', '../content/drive/MyDrive/py_dataset/jdrouterpush/', '../content/drive/MyDrive/py_dataset/jurigged/', '../content/drive/MyDrive/py_dataset/kallisto/', '../content/drive/MyDrive/py_dataset/karafs/', '../content/drive/MyDrive/py_dataset/keep-exporter/', '../content/drive/MyDrive/py_dataset/keymesh-addon/', '../content/drive/MyDrive/py_dataset/kgextension/', '../content/drive/MyDrive/py_dataset/khan-dl/', '../content/drive/MyDrive/py_dataset/kibuzzard/', '../content/drive/MyDrive/py_dataset/kiny-painel/', '../content/drive/MyDrive/py_dataset/konsave/', '../content/drive/MyDrive/py_dataset/latimes/', '../content/drive/MyDrive/py_dataset/lean-cli/', '../content/drive/MyDrive/py_dataset/learn-python/', '../content/drive/MyDrive/py_dataset/learn-x-by-doing-y/', '../content/drive/MyDrive/py_dataset/ledcapture/', '../content/drive/MyDrive/py_dataset/libmaths/', '../content/drive/MyDrive/py_dataset/lightning-flash/', '../content/drive/MyDrive/py_dataset/linear_operator/', '../content/drive/MyDrive/py_dataset/linux-cli/', '../content/drive/MyDrive/py_dataset/live-divulgador/', '../content/drive/MyDrive/py_dataset/logme/', '../content/drive/MyDrive/py_dataset/lord-userbot/', '../content/drive/MyDrive/py_dataset/lspider/', '../content/drive/MyDrive/py_dataset/lupin/', '../content/drive/MyDrive/py_dataset/m1n1/', '../content/drive/MyDrive/py_dataset/machinelearning/', '../content/drive/MyDrive/py_dataset/machound/', '../content/drive/MyDrive/py_dataset/maixpy3/', '../content/drive/MyDrive/py_dataset/math/', '../content/drive/MyDrive/py_dataset/maze/', '../content/drive/MyDrive/py_dataset/maze-pathfinder-visualization-python/', '../content/drive/MyDrive/py_dataset/mcunet/', '../content/drive/MyDrive/py_dataset/medical-transformer/', '../content/drive/MyDrive/py_dataset/meteoalarmeu/', '../content/drive/MyDrive/py_dataset/minbert-assignment/', '../content/drive/MyDrive/py_dataset/minimal-hand-pytorch/', '../content/drive/MyDrive/py_dataset/miniplayer/', '../content/drive/MyDrive/py_dataset/mintupgrade/', '../content/drive/MyDrive/py_dataset/mizuhararobotx/', '../content/drive/MyDrive/py_dataset/mlapp/', '../content/drive/MyDrive/py_dataset/mldata/', '../content/drive/MyDrive/py_dataset/mmpi/', '../content/drive/MyDrive/py_dataset/mprnet/', '../content/drive/MyDrive/py_dataset/msgspec/', '../content/drive/MyDrive/py_dataset/music-downloader/', '../content/drive/MyDrive/py_dataset/mydra/', '../content/drive/MyDrive/py_dataset/naaaavi/', '../content/drive/MyDrive/py_dataset/name-that-hash/', '../content/drive/MyDrive/py_dataset/nautobot/', '../content/drive/MyDrive/py_dataset/nautobot-lab/', '../content/drive/MyDrive/py_dataset/nautobot-plugin-golden-config/', '../content/drive/MyDrive/py_dataset/nbref/', '../content/drive/MyDrive/py_dataset/nerfies/', '../content/drive/MyDrive/py_dataset/netunnel/', '../content/drive/MyDrive/py_dataset/neural-scene-flow-fields/', '../content/drive/MyDrive/py_dataset/nfnets-pytorch/', '../content/drive/MyDrive/py_dataset/nlp-interview-notes/', '../content/drive/MyDrive/py_dataset/nlp-suite/', '../content/drive/MyDrive/py_dataset/nn-template/', '../content/drive/MyDrive/py_dataset/northpitch/', '../content/drive/MyDrive/py_dataset/notion-graph-view/', '../content/drive/MyDrive/py_dataset/nr-basic/', '../content/drive/MyDrive/py_dataset/ntire21_burstsr/', '../content/drive/MyDrive/py_dataset/ntire21_learning_sr_space/', '../content/drive/MyDrive/py_dataset/nwg-panel/', '../content/drive/MyDrive/py_dataset/nystrom-attention/', '../content/drive/MyDrive/py_dataset/oasis/', '../content/drive/MyDrive/py_dataset/octoprint-meatpack/', '../content/drive/MyDrive/py_dataset/on-policy/', '../content/drive/MyDrive/py_dataset/openapi_security_scanner/', '../content/drive/MyDrive/py_dataset/openfl/', '../content/drive/MyDrive/py_dataset/orthofisher/', '../content/drive/MyDrive/py_dataset/oscp-bof/', '../content/drive/MyDrive/py_dataset/osm-detective/', '../content/drive/MyDrive/py_dataset/osv/', '../content/drive/MyDrive/py_dataset/ote/', '../content/drive/MyDrive/py_dataset/ott/', '../content/drive/MyDrive/py_dataset/owasp-asvs-4.0-testing-guide/', '../content/drive/MyDrive/py_dataset/paddlenlp/', '../content/drive/MyDrive/py_dataset/pantrystock/', '../content/drive/MyDrive/py_dataset/paprika/', '../content/drive/MyDrive/py_dataset/parse_cop2000_ins_to_table/', '../content/drive/MyDrive/py_dataset/patta/', '../content/drive/MyDrive/py_dataset/pcrduel/', '../content/drive/MyDrive/py_dataset/pcrjjc/', '../content/drive/MyDrive/py_dataset/pcrjjc2/', '../content/drive/MyDrive/py_dataset/pedestriandetection-nohnms/', '../content/drive/MyDrive/py_dataset/pegen/', '../content/drive/MyDrive/py_dataset/pekofy-bot/', '../content/drive/MyDrive/py_dataset/pep585-upgrade/', '../content/drive/MyDrive/py_dataset/perceiver-pytorch/', '../content/drive/MyDrive/py_dataset/personreid-nafs/', '../content/drive/MyDrive/py_dataset/pgsparklite/', '../content/drive/MyDrive/py_dataset/picacg-windows/', '../content/drive/MyDrive/py_dataset/pico-go/', '../content/drive/MyDrive/py_dataset/pico-micropython-examples/', '../content/drive/MyDrive/py_dataset/pico_python_ws2812b/', '../content/drive/MyDrive/py_dataset/pico-streamdeck/', '../content/drive/MyDrive/py_dataset/pinout/', '../content/drive/MyDrive/py_dataset/pipelayer/', '../content/drive/MyDrive/py_dataset/piston-cli/', '../content/drive/MyDrive/py_dataset/pkuelective2021spring/', '../content/drive/MyDrive/py_dataset/playback/', '../content/drive/MyDrive/py_dataset/p-lightning-template/', '../content/drive/MyDrive/py_dataset/plots/', '../content/drive/MyDrive/py_dataset/pointcutmix/', '../content/drive/MyDrive/py_dataset/pororo/', '../content/drive/MyDrive/py_dataset/potpourri3d/', '../content/drive/MyDrive/py_dataset/pre-commit-ci-config/', '../content/drive/MyDrive/py_dataset/probdet/', '../content/drive/MyDrive/py_dataset/project-wiki/', '../content/drive/MyDrive/py_dataset/proxy_machine/', '../content/drive/MyDrive/py_dataset/pumpbot/', '../content/drive/MyDrive/py_dataset/pvt/', '../content/drive/MyDrive/py_dataset/py2many/', '../content/drive/MyDrive/py_dataset/pyabr/', '../content/drive/MyDrive/py_dataset/pyautosplit/', '../content/drive/MyDrive/py_dataset/pydatagovgr/', '../content/drive/MyDrive/py_dataset/pyedifice/', '../content/drive/MyDrive/py_dataset/pyfpga/', '../content/drive/MyDrive/py_dataset/pyhss/', '../content/drive/MyDrive/py_dataset/pyparsvd/', '../content/drive/MyDrive/py_dataset/py-persian-tools/', '../content/drive/MyDrive/py_dataset/pyrofilesstorebot/', '../content/drive/MyDrive/py_dataset/pytgcalls/', '../content/drive/MyDrive/py_dataset/python-101-forever/', '../content/drive/MyDrive/py_dataset/python-antivirus/', '../content/drive/MyDrive/py_dataset/python-http-monitoring/', '../content/drive/MyDrive/py_dataset/python-upbit-client/', '../content/drive/MyDrive/py_dataset/python_visualization_tutorial/', '../content/drive/MyDrive/py_dataset/pytorch-medical-segmentation/', '../content/drive/MyDrive/py_dataset/pyworkflow/', '../content/drive/MyDrive/py_dataset/qecsim/', '../content/drive/MyDrive/py_dataset/qiskit-optimization/', '../content/drive/MyDrive/py_dataset/rabbithole/', '../content/drive/MyDrive/py_dataset/ray_lightning_accelerators/', '../content/drive/MyDrive/py_dataset/rebiber/', '../content/drive/MyDrive/py_dataset/reconstant/', '../content/drive/MyDrive/py_dataset/recoverpy/', '../content/drive/MyDrive/py_dataset/reddit-save/', '../content/drive/MyDrive/py_dataset/reddit-stock-trends/', '../content/drive/MyDrive/py_dataset/red-python-scripts/', '../content/drive/MyDrive/py_dataset/registries/', '../content/drive/MyDrive/py_dataset/relabel_imagenet/', '../content/drive/MyDrive/py_dataset/repo-diff/', '../content/drive/MyDrive/py_dataset/resnetgpt/', '../content/drive/MyDrive/py_dataset/retro-ipod-spotify-client/', '../content/drive/MyDrive/py_dataset/revolut-stocks/', '../content/drive/MyDrive/py_dataset/rife_gui/', '../content/drive/MyDrive/py_dataset/rigid3dsceneflow/', '../content/drive/MyDrive/py_dataset/ritm_interactive_segmentation/', '../content/drive/MyDrive/py_dataset/rlstructures/', '../content/drive/MyDrive/py_dataset/rmfuse/', '../content/drive/MyDrive/py_dataset/robinhood-options-screener/', '../content/drive/MyDrive/py_dataset/robotics-object-pose-estimation/', '../content/drive/MyDrive/py_dataset/rpgthingy/', '../content/drive/MyDrive/py_dataset/rpi-pico-i2c-lcd/', '../content/drive/MyDrive/py_dataset/rsa_sign2n/', '../content/drive/MyDrive/py_dataset/rt-utils/', '../content/drive/MyDrive/py_dataset/rubicon/', '../content/drive/MyDrive/py_dataset/runekit/', '../content/drive/MyDrive/py_dataset/sahi/', '../content/drive/MyDrive/py_dataset/sam/', '../content/drive/MyDrive/py_dataset/sbibm/', '../content/drive/MyDrive/py_dataset/scrapera/', '../content/drive/MyDrive/py_dataset/sdbi/', '../content/drive/MyDrive/py_dataset/sdf/', '../content/drive/MyDrive/py_dataset/sduhealth/', '../content/drive/MyDrive/py_dataset/se3-transformer-pytorch/', '../content/drive/MyDrive/py_dataset/sealion/', '../content/drive/MyDrive/py_dataset/security-concept/', '../content/drive/MyDrive/py_dataset/self-attention-cv/', '../content/drive/MyDrive/py_dataset/semi-supervised-transfer-learning/', '../content/drive/MyDrive/py_dataset/sharedtask-dialdoc2021/', '../content/drive/MyDrive/py_dataset/shirt-bot/', '../content/drive/MyDrive/py_dataset/simple/', '../content/drive/MyDrive/py_dataset/simplefocstudio/', '../content/drive/MyDrive/py_dataset/simulate_sycamore/', '../content/drive/MyDrive/py_dataset/slack-event-subscriptions/', '../content/drive/MyDrive/py_dataset/slam-mirrorbot/', '../content/drive/MyDrive/py_dataset/snapmap-archiver/', '../content/drive/MyDrive/py_dataset/soda-sql/', '../content/drive/MyDrive/py_dataset/sorting_algo_visualizer/', '../content/drive/MyDrive/py_dataset/specification/', '../content/drive/MyDrive/py_dataset/speech_analytics/', '../content/drive/MyDrive/py_dataset/spoonmap/', '../content/drive/MyDrive/py_dataset/spotifyoverlay/', '../content/drive/MyDrive/py_dataset/squirrel-rife/', '../content/drive/MyDrive/py_dataset/stableviewsynthesis/', '../content/drive/MyDrive/py_dataset/stackstac/', '../content/drive/MyDrive/py_dataset/steamvr_utils/', '../content/drive/MyDrive/py_dataset/strainflair/', '../content/drive/MyDrive/py_dataset/streamlit-webrtc/', '../content/drive/MyDrive/py_dataset/streams-extractor/', '../content/drive/MyDrive/py_dataset/structura/', '../content/drive/MyDrive/py_dataset/stylegan2ada/', '../content/drive/MyDrive/py_dataset/stylegan2-ada-pytorch/', '../content/drive/MyDrive/py_dataset/swas/', '../content/drive/MyDrive/py_dataset/sway-endeavouros/', '../content/drive/MyDrive/py_dataset/sympytorch/', '../content/drive/MyDrive/py_dataset/t2t-vit/', '../content/drive/MyDrive/py_dataset/taky/', '../content/drive/MyDrive/py_dataset/tamilbot/', '../content/drive/MyDrive/py_dataset/taobao-iphone-device/', '../content/drive/MyDrive/py_dataset/targets/', '../content/drive/MyDrive/py_dataset/tastewaste/', '../content/drive/MyDrive/py_dataset/tec-digital-file-exporter/', '../content/drive/MyDrive/py_dataset/techxuexi/', '../content/drive/MyDrive/py_dataset/telegramfiletocloud/', '../content/drive/MyDrive/py_dataset/telegram-support-bot/', '../content/drive/MyDrive/py_dataset/telegram_vc_bot/', '../content/drive/MyDrive/py_dataset/tensorbay-python-sdk/', '../content/drive/MyDrive/py_dataset/tensor_holography/', '../content/drive/MyDrive/py_dataset/tesla-oauth2/', '../content/drive/MyDrive/py_dataset/tf2-objectdetectionapi/', '../content/drive/MyDrive/py_dataset/tflite2tensorflow/', '../content/drive/MyDrive/py_dataset/tg2021task/', '../content/drive/MyDrive/py_dataset/tg-nearby/', '../content/drive/MyDrive/py_dataset/thenewboston-node/', '../content/drive/MyDrive/py_dataset/tig/', '../content/drive/MyDrive/py_dataset/tiktokdownload/', '../content/drive/MyDrive/py_dataset/timemachines/', '../content/drive/MyDrive/py_dataset/timesformer-pytorch/', '../content/drive/MyDrive/py_dataset/ti-raytrace/', '../content/drive/MyDrive/py_dataset/tortoolkit-telegram/', '../content/drive/MyDrive/py_dataset/toy-ml-pipeline/', '../content/drive/MyDrive/py_dataset/trafalgar/', '../content/drive/MyDrive/py_dataset/trankit/', '../content/drive/MyDrive/py_dataset/trans2seg/', '../content/drive/MyDrive/py_dataset/transgan/', '../content/drive/MyDrive/py_dataset/transunet/', '../content/drive/MyDrive/py_dataset/tr-rosetta-pytorch/', '../content/drive/MyDrive/py_dataset/tts-bot/', '../content/drive/MyDrive/py_dataset/tuneta/', '../content/drive/MyDrive/py_dataset/turbo-flask/', '../content/drive/MyDrive/py_dataset/twitch-channel-points-miner-v2/', '../content/drive/MyDrive/py_dataset/twitternowplaying/', '../content/drive/MyDrive/py_dataset/ua-gec/', '../content/drive/MyDrive/py_dataset/uit-inf-1400-2021.github.io/', '../content/drive/MyDrive/py_dataset/ultroid/', '../content/drive/MyDrive/py_dataset/unbiased-teacher/', '../content/drive/MyDrive/py_dataset/unicheckbot/', '../content/drive/MyDrive/py_dataset/unidet/', '../content/drive/MyDrive/py_dataset/unsupervised-semantic-segmentation/', '../content/drive/MyDrive/py_dataset/updet/', '../content/drive/MyDrive/py_dataset/up-detr/', '../content/drive/MyDrive/py_dataset/vaccine_appointments/', '../content/drive/MyDrive/py_dataset/vaccine-watch/', '../content/drive/MyDrive/py_dataset/vacina-manaus-backend/', '../content/drive/MyDrive/py_dataset/vanilla-todo/', '../content/drive/MyDrive/py_dataset/version-detection/', '../content/drive/MyDrive/py_dataset/video2gif/', '../content/drive/MyDrive/py_dataset/videochatbot/', '../content/drive/MyDrive/py_dataset/vis_route/', '../content/drive/MyDrive/py_dataset/vistr/', '../content/drive/MyDrive/py_dataset/vizgradcam/', '../content/drive/MyDrive/py_dataset/vkbottle_bot_architecture_example/', '../content/drive/MyDrive/py_dataset/voxpopuli/', '../content/drive/MyDrive/py_dataset/wallstreetbets-sentiment-analysis/', '../content/drive/MyDrive/py_dataset/weighted-soft-label-distillation/', '../content/drive/MyDrive/py_dataset/where-is-douban250/', '../content/drive/MyDrive/py_dataset/wifi-password/', '../content/drive/MyDrive/py_dataset/winter2021_cs249_gnn/', '../content/drive/MyDrive/py_dataset/wizio-pico/', '../content/drive/MyDrive/py_dataset/wolf/', '../content/drive/MyDrive/py_dataset/wsbtrades/', '../content/drive/MyDrive/py_dataset/xagg/', '../content/drive/MyDrive/py_dataset/xgboost-survival-embeddings/', '../content/drive/MyDrive/py_dataset/xpra/', '../content/drive/MyDrive/py_dataset/xstreamdl-cli/', '../content/drive/MyDrive/py_dataset/yearn-vesting-escrow/', '../content/drive/MyDrive/py_dataset/yolov5-pip/', '../content/drive/MyDrive/py_dataset/youtube-viewer/', '../content/drive/MyDrive/py_dataset/zee5-downloader/', '../content/drive/MyDrive/py_dataset/zero-btc-screen/', '../content/drive/MyDrive/py_dataset/zpy/', '../content/drive/MyDrive/py_dataset/zwave-js-server-python/']\n"
          ]
        }
      ]
    },
    {
      "cell_type": "code",
      "source": [
        "for i in range(0,len(l)):\n",
        "  x = l[i]\n",
        "  print(str(i) + '. ' + x)\n",
        "  files = []\n",
        "  s = '/*.py'\n",
        "  sf = '/'\n",
        "  c= '/*'\n",
        "  count = 0\n",
        "  while True:\n",
        "    f = glob.glob(x+s)\n",
        "    f1 = glob.glob(x+sf)\n",
        "    if f==[] and f1==[] and count != 0:\n",
        "        break\n",
        "    for file in f:\n",
        "      files.append(file)\n",
        "      fname = file.split('/')[-1].strip()\n",
        "      # print(fname)\n",
        "      src = file.split('content/')[1]\n",
        "      dest = \"drive/MyDrive/data/\" + x.split('/')[-2] + '_' + fname\n",
        "      # print(src)\n",
        "      # print(dest)\n",
        "      shutil.copyfile(src,dest)\n",
        "      # break\n",
        "    sf=c+sf\n",
        "    s=c+s\n",
        "    count+=1\n",
        "  # print(files)  \n",
        "  # break\n",
        "\n",
        "  # l[i] = l[i].replace('../content/drive/MyDrive/py_dataset/','')\n",
        "# l"
      ],
      "metadata": {
        "colab": {
          "base_uri": "https://localhost:8080/"
        },
        "id": "T6Y6ufiLqlfl",
        "outputId": "1d0abe20-3835-4001-ac18-5f046adb0d0a"
      },
      "execution_count": null,
      "outputs": [
        {
          "output_type": "stream",
          "name": "stdout",
          "text": [
            "0. ../content/drive/MyDrive/py_dataset/absolufy-imports/\n",
            "1. ../content/drive/MyDrive/py_dataset/accountsgenbot/\n",
            "2. ../content/drive/MyDrive/py_dataset/ace-attorney-reddit-bot/\n",
            "3. ../content/drive/MyDrive/py_dataset/ace-attorney-twitter-bot/\n",
            "4. ../content/drive/MyDrive/py_dataset/acolite/\n",
            "5. ../content/drive/MyDrive/py_dataset/actionserverless/\n",
            "6. ../content/drive/MyDrive/py_dataset/actions-includes/\n",
            "7. ../content/drive/MyDrive/py_dataset/actions-sduhealthreport/\n",
            "8. ../content/drive/MyDrive/py_dataset/adv-auto-filter-bot/\n",
            "9. ../content/drive/MyDrive/py_dataset/agenda/\n",
            "10. ../content/drive/MyDrive/py_dataset/airpwn-ng/\n",
            "11. ../content/drive/MyDrive/py_dataset/aistplusplus_api/\n",
            "12. ../content/drive/MyDrive/py_dataset/algo-phantoms-backend/\n",
            "13. ../content/drive/MyDrive/py_dataset/algo-scriptml/\n",
            "14. ../content/drive/MyDrive/py_dataset/amazon-ray/\n",
            "15. ../content/drive/MyDrive/py_dataset/ape-safe/\n",
            "16. ../content/drive/MyDrive/py_dataset/aphantasia/\n",
            "17. ../content/drive/MyDrive/py_dataset/apilogicserver/\n",
            "18. ../content/drive/MyDrive/py_dataset/aqaragateway/\n",
            "19. ../content/drive/MyDrive/py_dataset/aquarium/\n",
            "20. ../content/drive/MyDrive/py_dataset/arena-rosnav/\n",
            "21. ../content/drive/MyDrive/py_dataset/argos/\n",
            "22. ../content/drive/MyDrive/py_dataset/ark-invest-api/\n",
            "23. ../content/drive/MyDrive/py_dataset/audacity_tools_for_blender/\n",
            "24. ../content/drive/MyDrive/py_dataset/autodd_rev2/\n",
            "25. ../content/drive/MyDrive/py_dataset/auto-filter-bot/\n",
            "26. ../content/drive/MyDrive/py_dataset/auto-filter-bot-v2/\n",
            "27. ../content/drive/MyDrive/py_dataset/autotss/\n",
            "28. ../content/drive/MyDrive/py_dataset/awesome-pattern-matching/\n",
            "29. ../content/drive/MyDrive/py_dataset/awesome-quincy-larson-emails/\n",
            "30. ../content/drive/MyDrive/py_dataset/aws-allowlister/\n",
            "31. ../content/drive/MyDrive/py_dataset/aws-quota-checker/\n",
            "32. ../content/drive/MyDrive/py_dataset/ayoshalat/\n",
            "33. ../content/drive/MyDrive/py_dataset/baidupcs-py/\n",
            "34. ../content/drive/MyDrive/py_dataset/barlowtwins/\n",
            "35. ../content/drive/MyDrive/py_dataset/beir/\n",
            "36. ../content/drive/MyDrive/py_dataset/bendr/\n",
            "37. ../content/drive/MyDrive/py_dataset/bernie-sits/\n",
            "38. ../content/drive/MyDrive/py_dataset/bertbasedcorrectionmodels/\n",
            "39. ../content/drive/MyDrive/py_dataset/best-of-python/\n",
            "40. ../content/drive/MyDrive/py_dataset/best-of-python-dev/\n",
            "41. ../content/drive/MyDrive/py_dataset/best-of-web-python/\n",
            "42. ../content/drive/MyDrive/py_dataset/betterpython/\n",
            "43. ../content/drive/MyDrive/py_dataset/bias-detector/\n",
            "44. ../content/drive/MyDrive/py_dataset/big-bench/\n",
            "45. ../content/drive/MyDrive/py_dataset/big-sleep/\n",
            "46. ../content/drive/MyDrive/py_dataset/bitpack/\n",
            "47. ../content/drive/MyDrive/py_dataset/blackmamba/\n",
            "48. ../content/drive/MyDrive/py_dataset/blobhunter/\n",
            "49. ../content/drive/MyDrive/py_dataset/bnn_priors/\n",
            "50. ../content/drive/MyDrive/py_dataset/bottleneck-transformer-pytorch/\n",
            "51. ../content/drive/MyDrive/py_dataset/brecq/\n",
            "52. ../content/drive/MyDrive/py_dataset/brokenlinkhijacker/\n",
            "53. ../content/drive/MyDrive/py_dataset/bruh-bot/\n",
            "54. ../content/drive/MyDrive/py_dataset/btoa/\n",
            "55. ../content/drive/MyDrive/py_dataset/build/\n",
            "56. ../content/drive/MyDrive/py_dataset/buycoins-python/\n",
            "57. ../content/drive/MyDrive/py_dataset/bvae-tts/\n",
            "58. ../content/drive/MyDrive/py_dataset/bypass_utility/\n",
            "59. ../content/drive/MyDrive/py_dataset/byte2speech/\n",
            "60. ../content/drive/MyDrive/py_dataset/calculator-bot/\n",
            "61. ../content/drive/MyDrive/py_dataset/calendar/\n",
            "62. ../content/drive/MyDrive/py_dataset/callsmusic/\n",
            "63. ../content/drive/MyDrive/py_dataset/canalyse/\n",
            "64. ../content/drive/MyDrive/py_dataset/capital_gains_calculator/\n",
            "65. ../content/drive/MyDrive/py_dataset/case-2021-shared-task/\n",
            "66. ../content/drive/MyDrive/py_dataset/catpack/\n",
            "67. ../content/drive/MyDrive/py_dataset/centernet2/\n",
            "68. ../content/drive/MyDrive/py_dataset/centernet-pytorch-lightning/\n",
            "69. ../content/drive/MyDrive/py_dataset/cgdms/\n",
            "70. ../content/drive/MyDrive/py_dataset/changedetection.io/\n",
            "71. ../content/drive/MyDrive/py_dataset/channelautopost/\n",
            "72. ../content/drive/MyDrive/py_dataset/chinaunionline/\n",
            "73. ../content/drive/MyDrive/py_dataset/ci_sdr/\n",
            "74. ../content/drive/MyDrive/py_dataset/cjk-compsci-terms/\n",
            "75. ../content/drive/MyDrive/py_dataset/ckconv/\n",
            "76. ../content/drive/MyDrive/py_dataset/classrooms/\n",
            "77. ../content/drive/MyDrive/py_dataset/classsr/\n",
            "78. ../content/drive/MyDrive/py_dataset/cl-ica/\n",
            "79. ../content/drive/MyDrive/py_dataset/clipbert/\n",
            "80. ../content/drive/MyDrive/py_dataset/clistockstracker/\n",
            "81. ../content/drive/MyDrive/py_dataset/clubhouse-py/\n",
            "82. ../content/drive/MyDrive/py_dataset/cn_missemi/\n",
            "83. ../content/drive/MyDrive/py_dataset/cointaxman/\n",
            "84. ../content/drive/MyDrive/py_dataset/collare/\n",
            "85. ../content/drive/MyDrive/py_dataset/comet-atomic-2020/\n",
            "86. ../content/drive/MyDrive/py_dataset/compile-time-printer/\n",
            "87. ../content/drive/MyDrive/py_dataset/computational-intelligence/\n",
            "88. ../content/drive/MyDrive/py_dataset/conferencingspeech2021/\n",
            "89. ../content/drive/MyDrive/py_dataset/conformer/\n",
            "90. ../content/drive/MyDrive/py_dataset/consistency-adversarial/\n",
            "91. ../content/drive/MyDrive/py_dataset/consolesnake/\n",
            "92. ../content/drive/MyDrive/py_dataset/conversordemedidas_capuccinogelado/\n",
            "93. ../content/drive/MyDrive/py_dataset/coolscripts/\n",
            "94. ../content/drive/MyDrive/py_dataset/coordattention/\n",
            "95. ../content/drive/MyDrive/py_dataset/cord-client-python/\n",
            "96. ../content/drive/MyDrive/py_dataset/covid19-vaccination-subnational/\n",
            "97. ../content/drive/MyDrive/py_dataset/cpapi/\n",
            "98. ../content/drive/MyDrive/py_dataset/cp-flow/\n",
            "99. ../content/drive/MyDrive/py_dataset/cqu_timetable_new/\n",
            "100. ../content/drive/MyDrive/py_dataset/crafter/\n",
            "101. ../content/drive/MyDrive/py_dataset/create-django-app/\n",
            "102. ../content/drive/MyDrive/py_dataset/croniter/\n",
            "103. ../content/drive/MyDrive/py_dataset/cryptoart-footprint/\n",
            "104. ../content/drive/MyDrive/py_dataset/ctfbox/\n",
            "105. ../content/drive/MyDrive/py_dataset/cve-2021-21972/\n",
            "106. ../content/drive/MyDrive/py_dataset/d2go/\n",
            "107. ../content/drive/MyDrive/py_dataset/dacy/\n",
            "108. ../content/drive/MyDrive/py_dataset/daisy-x/\n",
            "109. ../content/drive/MyDrive/py_dataset/dalle-mtf/\n",
            "110. ../content/drive/MyDrive/py_dataset/dalle-pytorch/\n",
            "111. ../content/drive/MyDrive/py_dataset/dash-vtk/\n",
            "112. ../content/drive/MyDrive/py_dataset/data_driven_mpc/\n",
            "113. ../content/drive/MyDrive/py_dataset/dataflow-geobeam/\n",
            "114. ../content/drive/MyDrive/py_dataset/dbj/\n",
            "115. ../content/drive/MyDrive/py_dataset/dbt-ml-preprocessing/\n",
            "116. ../content/drive/MyDrive/py_dataset/dcoder/\n",
            "117. ../content/drive/MyDrive/py_dataset/dd_monitor/\n",
            "118. ../content/drive/MyDrive/py_dataset/ddrecorder/\n",
            "119. ../content/drive/MyDrive/py_dataset/deep-daze/\n",
            "120. ../content/drive/MyDrive/py_dataset/deepfake-scanner/\n",
            "121. ../content/drive/MyDrive/py_dataset/deep-forest/\n",
            "122. ../content/drive/MyDrive/py_dataset/deepstackpython/\n",
            "123. ../content/drive/MyDrive/py_dataset/densephrases/\n",
            "124. ../content/drive/MyDrive/py_dataset/depthai_blazepose/\n",
            "125. ../content/drive/MyDrive/py_dataset/detector-de-mascaras/\n",
            "126. ../content/drive/MyDrive/py_dataset/devresources/\n",
            "127. ../content/drive/MyDrive/py_dataset/diambraenvironment/\n",
            "128. ../content/drive/MyDrive/py_dataset/dianping_spider/\n",
            "129. ../content/drive/MyDrive/py_dataset/diffmorph/\n",
            "130. ../content/drive/MyDrive/py_dataset/diffusion-net/\n",
            "131. ../content/drive/MyDrive/py_dataset/discord-nitro-gen-and-checker/\n",
            "132. ../content/drive/MyDrive/py_dataset/dislash.py/\n",
            "133. ../content/drive/MyDrive/py_dataset/django-blog-app/\n",
            "134. ../content/drive/MyDrive/py_dataset/django-models/\n",
            "135. ../content/drive/MyDrive/py_dataset/django-sms/\n",
            "136. ../content/drive/MyDrive/py_dataset/django-sql-dashboard/\n",
            "137. ../content/drive/MyDrive/py_dataset/dm_alchemy/\n",
            "138. ../content/drive/MyDrive/py_dataset/dm_fast_mapping/\n",
            "139. ../content/drive/MyDrive/py_dataset/docs/\n",
            "140. ../content/drive/MyDrive/py_dataset/dotascience/\n",
            "141. ../content/drive/MyDrive/py_dataset/dream-api/\n",
            "142. ../content/drive/MyDrive/py_dataset/drlib/\n",
            "143. ../content/drive/MyDrive/py_dataset/dsa/\n",
            "144. ../content/drive/MyDrive/py_dataset/dydx-v3-python/\n",
            "145. ../content/drive/MyDrive/py_dataset/easyauth/\n",
            "146. ../content/drive/MyDrive/py_dataset/easy-few-shot-learning/\n",
            "147. ../content/drive/MyDrive/py_dataset/easymocap/\n",
            "148. ../content/drive/MyDrive/py_dataset/easynmt/\n",
            "149. ../content/drive/MyDrive/py_dataset/easyroi/\n",
            "150. ../content/drive/MyDrive/py_dataset/eden/\n",
            "151. ../content/drive/MyDrive/py_dataset/egnn-pytorch/\n"
          ]
        }
      ]
    },
    {
      "cell_type": "code",
      "source": [],
      "metadata": {
        "id": "PAzjiBpAtB33"
      },
      "execution_count": null,
      "outputs": []
    }
  ]
}