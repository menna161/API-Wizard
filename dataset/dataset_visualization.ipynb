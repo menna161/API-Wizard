{
  "cells": [
    {
      "cell_type": "code",
      "execution_count": null,
      "metadata": {
        "colab": {
          "base_uri": "https://localhost:8080/"
        },
        "id": "STVpXTF9ps1G",
        "outputId": "7dfdcb8d-d5fe-42af-bc20-43cca553ea69"
      },
      "outputs": [
        {
          "output_type": "stream",
          "name": "stdout",
          "text": [
            "Drive already mounted at /content/drive; to attempt to forcibly remount, call drive.mount(\"/content/drive\", force_remount=True).\n"
          ]
        }
      ],
      "source": [
        "import numpy as np\n",
        "import pandas as pd\n",
        "import matplotlib.pyplot as plt\n",
        "import seaborn as sns\n",
        "import plotly.express as px\n",
        "import warnings\n",
        "warnings.simplefilter(\"ignore\", FutureWarning)\n",
        "\n",
        "from google.colab import drive\n",
        "drive.mount('/content/drive')"
      ]
    },
    {
      "cell_type": "code",
      "execution_count": null,
      "metadata": {
        "colab": {
          "base_uri": "https://localhost:8080/",
          "height": 577
        },
        "id": "e4F34VybqH-b",
        "outputId": "05a85cde-d4ea-4b22-de57-baa766e2cfc9"
      },
      "outputs": [
        {
          "output_type": "execute_result",
          "data": {
            "text/plain": [
              "                                name  isFork  commits  branches defaultBranch  \\\n",
              "0                      apache/bigtop   False   2907.0        55        master   \n",
              "1                   ferhatelmas/algo   False   2018.0         1        master   \n",
              "2                familysearch/gedcom   False    315.0         9          main   \n",
              "3  michaelmilleryoder/fanfiction-nlp   False    357.0         3          main   \n",
              "4      googlecloudplatform/community   False   1438.0         9        master   \n",
              "\n",
              "   releases  contributors                                      license  \\\n",
              "0         0         136.0                           Apache License 2.0   \n",
              "1         0           1.0  Do What The F*ck You Want To Public License   \n",
              "2        11           9.0                           Apache License 2.0   \n",
              "3         0           8.0              GNU General Public License v3.0   \n",
              "4         0         349.0                                        Other   \n",
              "\n",
              "   watchers  stargazers  ...                            homepage  \\\n",
              "0        57         457  ...                                 NaN   \n",
              "1         7          31  ...                                 NaN   \n",
              "2        21          67  ...                                 NaN   \n",
              "3        11          22  ...                                 NaN   \n",
              "4       200        1737  ...  https://cloud.google.com/community   \n",
              "\n",
              "   mainLanguage totalIssues openIssues totalPullRequests openPullRequests  \\\n",
              "0        Python         0.0        0.0            1034.0            189.0   \n",
              "1        Python         0.0        0.0               2.0              0.0   \n",
              "2        Python        99.0       40.0              90.0              5.0   \n",
              "3        Python         1.0        1.0               6.0              0.0   \n",
              "4        Python       708.0       32.0            1511.0             35.0   \n",
              "\n",
              "            lastCommit                             lastCommitSHA  hasWiki  \\\n",
              "0  2022-10-31T11:37:27  17cebb2eec1df455dc3035b19e15765e127a76e0     True   \n",
              "1  2022-10-13T07:01:48  fb7f177ff85e17b8186e7ef6f670a1ca0dc4f9bb    False   \n",
              "2  2022-10-05T08:43:53  dd1f529d949f264440edf0ee963521f8c77c9d9b     True   \n",
              "3  2022-08-23T05:07:52  c3b5df200f425b089c373eae60fd46be4ca9db77     True   \n",
              "4  2022-10-15T06:55:35  bedae8a0835ec022ba5f55536447cdb6c4d5ef9a    False   \n",
              "\n",
              "   isArchived  \n",
              "0       False  \n",
              "1       False  \n",
              "2       False  \n",
              "3       False  \n",
              "4       False  \n",
              "\n",
              "[5 rows x 25 columns]"
            ],
            "text/html": [
              "\n",
              "  <div id=\"df-2f7d6d4a-0958-45c3-8d08-4ef412f28da7\">\n",
              "    <div class=\"colab-df-container\">\n",
              "      <div>\n",
              "<style scoped>\n",
              "    .dataframe tbody tr th:only-of-type {\n",
              "        vertical-align: middle;\n",
              "    }\n",
              "\n",
              "    .dataframe tbody tr th {\n",
              "        vertical-align: top;\n",
              "    }\n",
              "\n",
              "    .dataframe thead th {\n",
              "        text-align: right;\n",
              "    }\n",
              "</style>\n",
              "<table border=\"1\" class=\"dataframe\">\n",
              "  <thead>\n",
              "    <tr style=\"text-align: right;\">\n",
              "      <th></th>\n",
              "      <th>name</th>\n",
              "      <th>isFork</th>\n",
              "      <th>commits</th>\n",
              "      <th>branches</th>\n",
              "      <th>defaultBranch</th>\n",
              "      <th>releases</th>\n",
              "      <th>contributors</th>\n",
              "      <th>license</th>\n",
              "      <th>watchers</th>\n",
              "      <th>stargazers</th>\n",
              "      <th>...</th>\n",
              "      <th>homepage</th>\n",
              "      <th>mainLanguage</th>\n",
              "      <th>totalIssues</th>\n",
              "      <th>openIssues</th>\n",
              "      <th>totalPullRequests</th>\n",
              "      <th>openPullRequests</th>\n",
              "      <th>lastCommit</th>\n",
              "      <th>lastCommitSHA</th>\n",
              "      <th>hasWiki</th>\n",
              "      <th>isArchived</th>\n",
              "    </tr>\n",
              "  </thead>\n",
              "  <tbody>\n",
              "    <tr>\n",
              "      <th>0</th>\n",
              "      <td>apache/bigtop</td>\n",
              "      <td>False</td>\n",
              "      <td>2907.0</td>\n",
              "      <td>55</td>\n",
              "      <td>master</td>\n",
              "      <td>0</td>\n",
              "      <td>136.0</td>\n",
              "      <td>Apache License 2.0</td>\n",
              "      <td>57</td>\n",
              "      <td>457</td>\n",
              "      <td>...</td>\n",
              "      <td>NaN</td>\n",
              "      <td>Python</td>\n",
              "      <td>0.0</td>\n",
              "      <td>0.0</td>\n",
              "      <td>1034.0</td>\n",
              "      <td>189.0</td>\n",
              "      <td>2022-10-31T11:37:27</td>\n",
              "      <td>17cebb2eec1df455dc3035b19e15765e127a76e0</td>\n",
              "      <td>True</td>\n",
              "      <td>False</td>\n",
              "    </tr>\n",
              "    <tr>\n",
              "      <th>1</th>\n",
              "      <td>ferhatelmas/algo</td>\n",
              "      <td>False</td>\n",
              "      <td>2018.0</td>\n",
              "      <td>1</td>\n",
              "      <td>master</td>\n",
              "      <td>0</td>\n",
              "      <td>1.0</td>\n",
              "      <td>Do What The F*ck You Want To Public License</td>\n",
              "      <td>7</td>\n",
              "      <td>31</td>\n",
              "      <td>...</td>\n",
              "      <td>NaN</td>\n",
              "      <td>Python</td>\n",
              "      <td>0.0</td>\n",
              "      <td>0.0</td>\n",
              "      <td>2.0</td>\n",
              "      <td>0.0</td>\n",
              "      <td>2022-10-13T07:01:48</td>\n",
              "      <td>fb7f177ff85e17b8186e7ef6f670a1ca0dc4f9bb</td>\n",
              "      <td>False</td>\n",
              "      <td>False</td>\n",
              "    </tr>\n",
              "    <tr>\n",
              "      <th>2</th>\n",
              "      <td>familysearch/gedcom</td>\n",
              "      <td>False</td>\n",
              "      <td>315.0</td>\n",
              "      <td>9</td>\n",
              "      <td>main</td>\n",
              "      <td>11</td>\n",
              "      <td>9.0</td>\n",
              "      <td>Apache License 2.0</td>\n",
              "      <td>21</td>\n",
              "      <td>67</td>\n",
              "      <td>...</td>\n",
              "      <td>NaN</td>\n",
              "      <td>Python</td>\n",
              "      <td>99.0</td>\n",
              "      <td>40.0</td>\n",
              "      <td>90.0</td>\n",
              "      <td>5.0</td>\n",
              "      <td>2022-10-05T08:43:53</td>\n",
              "      <td>dd1f529d949f264440edf0ee963521f8c77c9d9b</td>\n",
              "      <td>True</td>\n",
              "      <td>False</td>\n",
              "    </tr>\n",
              "    <tr>\n",
              "      <th>3</th>\n",
              "      <td>michaelmilleryoder/fanfiction-nlp</td>\n",
              "      <td>False</td>\n",
              "      <td>357.0</td>\n",
              "      <td>3</td>\n",
              "      <td>main</td>\n",
              "      <td>0</td>\n",
              "      <td>8.0</td>\n",
              "      <td>GNU General Public License v3.0</td>\n",
              "      <td>11</td>\n",
              "      <td>22</td>\n",
              "      <td>...</td>\n",
              "      <td>NaN</td>\n",
              "      <td>Python</td>\n",
              "      <td>1.0</td>\n",
              "      <td>1.0</td>\n",
              "      <td>6.0</td>\n",
              "      <td>0.0</td>\n",
              "      <td>2022-08-23T05:07:52</td>\n",
              "      <td>c3b5df200f425b089c373eae60fd46be4ca9db77</td>\n",
              "      <td>True</td>\n",
              "      <td>False</td>\n",
              "    </tr>\n",
              "    <tr>\n",
              "      <th>4</th>\n",
              "      <td>googlecloudplatform/community</td>\n",
              "      <td>False</td>\n",
              "      <td>1438.0</td>\n",
              "      <td>9</td>\n",
              "      <td>master</td>\n",
              "      <td>0</td>\n",
              "      <td>349.0</td>\n",
              "      <td>Other</td>\n",
              "      <td>200</td>\n",
              "      <td>1737</td>\n",
              "      <td>...</td>\n",
              "      <td>https://cloud.google.com/community</td>\n",
              "      <td>Python</td>\n",
              "      <td>708.0</td>\n",
              "      <td>32.0</td>\n",
              "      <td>1511.0</td>\n",
              "      <td>35.0</td>\n",
              "      <td>2022-10-15T06:55:35</td>\n",
              "      <td>bedae8a0835ec022ba5f55536447cdb6c4d5ef9a</td>\n",
              "      <td>False</td>\n",
              "      <td>False</td>\n",
              "    </tr>\n",
              "  </tbody>\n",
              "</table>\n",
              "<p>5 rows × 25 columns</p>\n",
              "</div>\n",
              "      <button class=\"colab-df-convert\" onclick=\"convertToInteractive('df-2f7d6d4a-0958-45c3-8d08-4ef412f28da7')\"\n",
              "              title=\"Convert this dataframe to an interactive table.\"\n",
              "              style=\"display:none;\">\n",
              "        \n",
              "  <svg xmlns=\"http://www.w3.org/2000/svg\" height=\"24px\"viewBox=\"0 0 24 24\"\n",
              "       width=\"24px\">\n",
              "    <path d=\"M0 0h24v24H0V0z\" fill=\"none\"/>\n",
              "    <path d=\"M18.56 5.44l.94 2.06.94-2.06 2.06-.94-2.06-.94-.94-2.06-.94 2.06-2.06.94zm-11 1L8.5 8.5l.94-2.06 2.06-.94-2.06-.94L8.5 2.5l-.94 2.06-2.06.94zm10 10l.94 2.06.94-2.06 2.06-.94-2.06-.94-.94-2.06-.94 2.06-2.06.94z\"/><path d=\"M17.41 7.96l-1.37-1.37c-.4-.4-.92-.59-1.43-.59-.52 0-1.04.2-1.43.59L10.3 9.45l-7.72 7.72c-.78.78-.78 2.05 0 2.83L4 21.41c.39.39.9.59 1.41.59.51 0 1.02-.2 1.41-.59l7.78-7.78 2.81-2.81c.8-.78.8-2.07 0-2.86zM5.41 20L4 18.59l7.72-7.72 1.47 1.35L5.41 20z\"/>\n",
              "  </svg>\n",
              "      </button>\n",
              "      \n",
              "  <style>\n",
              "    .colab-df-container {\n",
              "      display:flex;\n",
              "      flex-wrap:wrap;\n",
              "      gap: 12px;\n",
              "    }\n",
              "\n",
              "    .colab-df-convert {\n",
              "      background-color: #E8F0FE;\n",
              "      border: none;\n",
              "      border-radius: 50%;\n",
              "      cursor: pointer;\n",
              "      display: none;\n",
              "      fill: #1967D2;\n",
              "      height: 32px;\n",
              "      padding: 0 0 0 0;\n",
              "      width: 32px;\n",
              "    }\n",
              "\n",
              "    .colab-df-convert:hover {\n",
              "      background-color: #E2EBFA;\n",
              "      box-shadow: 0px 1px 2px rgba(60, 64, 67, 0.3), 0px 1px 3px 1px rgba(60, 64, 67, 0.15);\n",
              "      fill: #174EA6;\n",
              "    }\n",
              "\n",
              "    [theme=dark] .colab-df-convert {\n",
              "      background-color: #3B4455;\n",
              "      fill: #D2E3FC;\n",
              "    }\n",
              "\n",
              "    [theme=dark] .colab-df-convert:hover {\n",
              "      background-color: #434B5C;\n",
              "      box-shadow: 0px 1px 3px 1px rgba(0, 0, 0, 0.15);\n",
              "      filter: drop-shadow(0px 1px 2px rgba(0, 0, 0, 0.3));\n",
              "      fill: #FFFFFF;\n",
              "    }\n",
              "  </style>\n",
              "\n",
              "      <script>\n",
              "        const buttonEl =\n",
              "          document.querySelector('#df-2f7d6d4a-0958-45c3-8d08-4ef412f28da7 button.colab-df-convert');\n",
              "        buttonEl.style.display =\n",
              "          google.colab.kernel.accessAllowed ? 'block' : 'none';\n",
              "\n",
              "        async function convertToInteractive(key) {\n",
              "          const element = document.querySelector('#df-2f7d6d4a-0958-45c3-8d08-4ef412f28da7');\n",
              "          const dataTable =\n",
              "            await google.colab.kernel.invokeFunction('convertToInteractive',\n",
              "                                                     [key], {});\n",
              "          if (!dataTable) return;\n",
              "\n",
              "          const docLinkHtml = 'Like what you see? Visit the ' +\n",
              "            '<a target=\"_blank\" href=https://colab.research.google.com/notebooks/data_table.ipynb>data table notebook</a>'\n",
              "            + ' to learn more about interactive tables.';\n",
              "          element.innerHTML = '';\n",
              "          dataTable['output_type'] = 'display_data';\n",
              "          await google.colab.output.renderOutput(dataTable, element);\n",
              "          const docLink = document.createElement('div');\n",
              "          docLink.innerHTML = docLinkHtml;\n",
              "          element.appendChild(docLink);\n",
              "        }\n",
              "      </script>\n",
              "    </div>\n",
              "  </div>\n",
              "  "
            ]
          },
          "metadata": {},
          "execution_count": 2
        }
      ],
      "source": [
        "df = pd.read_csv('/content/drive/MyDrive/new_dataset.csv')\n",
        "df.head()"
      ]
    },
    {
      "cell_type": "code",
      "execution_count": null,
      "metadata": {
        "colab": {
          "base_uri": "https://localhost:8080/"
        },
        "id": "7Mm3BCKIqJ2D",
        "outputId": "c4da99ba-02f8-4f64-8d6b-165de3dc219f"
      },
      "outputs": [
        {
          "output_type": "execute_result",
          "data": {
            "text/plain": [
              "(93103, 25)"
            ]
          },
          "metadata": {},
          "execution_count": 3
        }
      ],
      "source": [
        "df.shape"
      ]
    },
    {
      "cell_type": "code",
      "source": [
        "df.sort_values(by='lastCommit')['lastCommit']"
      ],
      "metadata": {
        "id": "cMr0_wD-uD2d",
        "colab": {
          "base_uri": "https://localhost:8080/"
        },
        "outputId": "0564e5a8-73ea-41cf-8296-86bfa2b5cea3"
      },
      "execution_count": null,
      "outputs": [
        {
          "output_type": "execute_result",
          "data": {
            "text/plain": [
              "5087     2020-01-01T01:33:59\n",
              "5015     2020-01-01T01:38:24\n",
              "5065     2020-01-01T03:06:05\n",
              "5086     2020-01-01T04:24:45\n",
              "4990     2020-01-01T05:00:33\n",
              "                ...         \n",
              "48615    2022-10-31T12:37:03\n",
              "93048    2022-10-31T12:39:40\n",
              "56024    2022-10-31T12:55:32\n",
              "63730    2022-10-31T12:57:44\n",
              "3876     2034-05-15T05:40:15\n",
              "Name: lastCommit, Length: 93103, dtype: object"
            ]
          },
          "metadata": {},
          "execution_count": 4
        }
      ]
    },
    {
      "cell_type": "code",
      "execution_count": null,
      "metadata": {
        "colab": {
          "base_uri": "https://localhost:8080/"
        },
        "id": "PYoRUMwerIsb",
        "outputId": "5e73d857-a552-45aa-f2b1-212f3524fa89"
      },
      "outputs": [
        {
          "output_type": "execute_result",
          "data": {
            "text/plain": [
              "Index(['name', 'isFork', 'commits', 'branches', 'defaultBranch', 'releases',\n",
              "       'contributors', 'license', 'watchers', 'stargazers', 'forks', 'size',\n",
              "       'createdAt', 'pushedAt', 'updatedAt', 'homepage', 'mainLanguage',\n",
              "       'totalIssues', 'openIssues', 'totalPullRequests', 'openPullRequests',\n",
              "       'lastCommit', 'lastCommitSHA', 'hasWiki', 'isArchived'],\n",
              "      dtype='object')"
            ]
          },
          "metadata": {},
          "execution_count": 5
        }
      ],
      "source": [
        "df.columns"
      ]
    },
    {
      "cell_type": "code",
      "execution_count": null,
      "metadata": {
        "colab": {
          "base_uri": "https://localhost:8080/",
          "height": 426
        },
        "id": "VL3grlGbqKOk",
        "outputId": "c84a35db-4626-467d-ad7f-ae6cca2ff106"
      },
      "outputs": [
        {
          "output_type": "execute_result",
          "data": {
            "text/plain": [
              "                     count          mean            std   min    25%     50%  \\\n",
              "commits            93060.0    427.536063    2353.539622   1.0   28.0    84.0   \n",
              "branches           93103.0      5.676144      45.507993   1.0    1.0     2.0   \n",
              "releases           93103.0      6.004629      24.996813   0.0    0.0     0.0   \n",
              "contributors       86168.0      9.660500      27.210030   0.0    2.0     3.0   \n",
              "watchers           93103.0     13.791178      65.200324   0.0    2.0     5.0   \n",
              "stargazers         93103.0    243.919863    1800.647186  10.0   16.0    34.0   \n",
              "forks              93103.0     55.751308     411.866549   0.0    4.0    10.0   \n",
              "size               93103.0  32016.730224  467966.886065   0.0  165.0  1123.0   \n",
              "totalIssues        90993.0     55.220402     394.192533   0.0    2.0     7.0   \n",
              "openIssues         90993.0     11.469289      54.360433   0.0    0.0     2.0   \n",
              "totalPullRequests  91217.0     72.382429     495.153735   0.0    1.0     6.0   \n",
              "openPullRequests   91217.0      2.215903      66.232336   0.0    0.0     0.0   \n",
              "\n",
              "                      75%          max  \n",
              "commits             269.0     225572.0  \n",
              "branches              4.0      11573.0  \n",
              "releases              4.0       2340.0  \n",
              "contributors          7.0        766.0  \n",
              "watchers             11.0       6392.0  \n",
              "stargazers          102.0     210736.0  \n",
              "forks                29.0      46037.0  \n",
              "size               9730.0  104880243.0  \n",
              "totalIssues          28.0      71873.0  \n",
              "openIssues            7.0       3895.0  \n",
              "totalPullRequests    31.0      47480.0  \n",
              "openPullRequests      1.0      19604.0  "
            ],
            "text/html": [
              "\n",
              "  <div id=\"df-fc109170-8d1a-4062-b6e7-d5f2e2093c0a\">\n",
              "    <div class=\"colab-df-container\">\n",
              "      <div>\n",
              "<style scoped>\n",
              "    .dataframe tbody tr th:only-of-type {\n",
              "        vertical-align: middle;\n",
              "    }\n",
              "\n",
              "    .dataframe tbody tr th {\n",
              "        vertical-align: top;\n",
              "    }\n",
              "\n",
              "    .dataframe thead th {\n",
              "        text-align: right;\n",
              "    }\n",
              "</style>\n",
              "<table border=\"1\" class=\"dataframe\">\n",
              "  <thead>\n",
              "    <tr style=\"text-align: right;\">\n",
              "      <th></th>\n",
              "      <th>count</th>\n",
              "      <th>mean</th>\n",
              "      <th>std</th>\n",
              "      <th>min</th>\n",
              "      <th>25%</th>\n",
              "      <th>50%</th>\n",
              "      <th>75%</th>\n",
              "      <th>max</th>\n",
              "    </tr>\n",
              "  </thead>\n",
              "  <tbody>\n",
              "    <tr>\n",
              "      <th>commits</th>\n",
              "      <td>93060.0</td>\n",
              "      <td>427.536063</td>\n",
              "      <td>2353.539622</td>\n",
              "      <td>1.0</td>\n",
              "      <td>28.0</td>\n",
              "      <td>84.0</td>\n",
              "      <td>269.0</td>\n",
              "      <td>225572.0</td>\n",
              "    </tr>\n",
              "    <tr>\n",
              "      <th>branches</th>\n",
              "      <td>93103.0</td>\n",
              "      <td>5.676144</td>\n",
              "      <td>45.507993</td>\n",
              "      <td>1.0</td>\n",
              "      <td>1.0</td>\n",
              "      <td>2.0</td>\n",
              "      <td>4.0</td>\n",
              "      <td>11573.0</td>\n",
              "    </tr>\n",
              "    <tr>\n",
              "      <th>releases</th>\n",
              "      <td>93103.0</td>\n",
              "      <td>6.004629</td>\n",
              "      <td>24.996813</td>\n",
              "      <td>0.0</td>\n",
              "      <td>0.0</td>\n",
              "      <td>0.0</td>\n",
              "      <td>4.0</td>\n",
              "      <td>2340.0</td>\n",
              "    </tr>\n",
              "    <tr>\n",
              "      <th>contributors</th>\n",
              "      <td>86168.0</td>\n",
              "      <td>9.660500</td>\n",
              "      <td>27.210030</td>\n",
              "      <td>0.0</td>\n",
              "      <td>2.0</td>\n",
              "      <td>3.0</td>\n",
              "      <td>7.0</td>\n",
              "      <td>766.0</td>\n",
              "    </tr>\n",
              "    <tr>\n",
              "      <th>watchers</th>\n",
              "      <td>93103.0</td>\n",
              "      <td>13.791178</td>\n",
              "      <td>65.200324</td>\n",
              "      <td>0.0</td>\n",
              "      <td>2.0</td>\n",
              "      <td>5.0</td>\n",
              "      <td>11.0</td>\n",
              "      <td>6392.0</td>\n",
              "    </tr>\n",
              "    <tr>\n",
              "      <th>stargazers</th>\n",
              "      <td>93103.0</td>\n",
              "      <td>243.919863</td>\n",
              "      <td>1800.647186</td>\n",
              "      <td>10.0</td>\n",
              "      <td>16.0</td>\n",
              "      <td>34.0</td>\n",
              "      <td>102.0</td>\n",
              "      <td>210736.0</td>\n",
              "    </tr>\n",
              "    <tr>\n",
              "      <th>forks</th>\n",
              "      <td>93103.0</td>\n",
              "      <td>55.751308</td>\n",
              "      <td>411.866549</td>\n",
              "      <td>0.0</td>\n",
              "      <td>4.0</td>\n",
              "      <td>10.0</td>\n",
              "      <td>29.0</td>\n",
              "      <td>46037.0</td>\n",
              "    </tr>\n",
              "    <tr>\n",
              "      <th>size</th>\n",
              "      <td>93103.0</td>\n",
              "      <td>32016.730224</td>\n",
              "      <td>467966.886065</td>\n",
              "      <td>0.0</td>\n",
              "      <td>165.0</td>\n",
              "      <td>1123.0</td>\n",
              "      <td>9730.0</td>\n",
              "      <td>104880243.0</td>\n",
              "    </tr>\n",
              "    <tr>\n",
              "      <th>totalIssues</th>\n",
              "      <td>90993.0</td>\n",
              "      <td>55.220402</td>\n",
              "      <td>394.192533</td>\n",
              "      <td>0.0</td>\n",
              "      <td>2.0</td>\n",
              "      <td>7.0</td>\n",
              "      <td>28.0</td>\n",
              "      <td>71873.0</td>\n",
              "    </tr>\n",
              "    <tr>\n",
              "      <th>openIssues</th>\n",
              "      <td>90993.0</td>\n",
              "      <td>11.469289</td>\n",
              "      <td>54.360433</td>\n",
              "      <td>0.0</td>\n",
              "      <td>0.0</td>\n",
              "      <td>2.0</td>\n",
              "      <td>7.0</td>\n",
              "      <td>3895.0</td>\n",
              "    </tr>\n",
              "    <tr>\n",
              "      <th>totalPullRequests</th>\n",
              "      <td>91217.0</td>\n",
              "      <td>72.382429</td>\n",
              "      <td>495.153735</td>\n",
              "      <td>0.0</td>\n",
              "      <td>1.0</td>\n",
              "      <td>6.0</td>\n",
              "      <td>31.0</td>\n",
              "      <td>47480.0</td>\n",
              "    </tr>\n",
              "    <tr>\n",
              "      <th>openPullRequests</th>\n",
              "      <td>91217.0</td>\n",
              "      <td>2.215903</td>\n",
              "      <td>66.232336</td>\n",
              "      <td>0.0</td>\n",
              "      <td>0.0</td>\n",
              "      <td>0.0</td>\n",
              "      <td>1.0</td>\n",
              "      <td>19604.0</td>\n",
              "    </tr>\n",
              "  </tbody>\n",
              "</table>\n",
              "</div>\n",
              "      <button class=\"colab-df-convert\" onclick=\"convertToInteractive('df-fc109170-8d1a-4062-b6e7-d5f2e2093c0a')\"\n",
              "              title=\"Convert this dataframe to an interactive table.\"\n",
              "              style=\"display:none;\">\n",
              "        \n",
              "  <svg xmlns=\"http://www.w3.org/2000/svg\" height=\"24px\"viewBox=\"0 0 24 24\"\n",
              "       width=\"24px\">\n",
              "    <path d=\"M0 0h24v24H0V0z\" fill=\"none\"/>\n",
              "    <path d=\"M18.56 5.44l.94 2.06.94-2.06 2.06-.94-2.06-.94-.94-2.06-.94 2.06-2.06.94zm-11 1L8.5 8.5l.94-2.06 2.06-.94-2.06-.94L8.5 2.5l-.94 2.06-2.06.94zm10 10l.94 2.06.94-2.06 2.06-.94-2.06-.94-.94-2.06-.94 2.06-2.06.94z\"/><path d=\"M17.41 7.96l-1.37-1.37c-.4-.4-.92-.59-1.43-.59-.52 0-1.04.2-1.43.59L10.3 9.45l-7.72 7.72c-.78.78-.78 2.05 0 2.83L4 21.41c.39.39.9.59 1.41.59.51 0 1.02-.2 1.41-.59l7.78-7.78 2.81-2.81c.8-.78.8-2.07 0-2.86zM5.41 20L4 18.59l7.72-7.72 1.47 1.35L5.41 20z\"/>\n",
              "  </svg>\n",
              "      </button>\n",
              "      \n",
              "  <style>\n",
              "    .colab-df-container {\n",
              "      display:flex;\n",
              "      flex-wrap:wrap;\n",
              "      gap: 12px;\n",
              "    }\n",
              "\n",
              "    .colab-df-convert {\n",
              "      background-color: #E8F0FE;\n",
              "      border: none;\n",
              "      border-radius: 50%;\n",
              "      cursor: pointer;\n",
              "      display: none;\n",
              "      fill: #1967D2;\n",
              "      height: 32px;\n",
              "      padding: 0 0 0 0;\n",
              "      width: 32px;\n",
              "    }\n",
              "\n",
              "    .colab-df-convert:hover {\n",
              "      background-color: #E2EBFA;\n",
              "      box-shadow: 0px 1px 2px rgba(60, 64, 67, 0.3), 0px 1px 3px 1px rgba(60, 64, 67, 0.15);\n",
              "      fill: #174EA6;\n",
              "    }\n",
              "\n",
              "    [theme=dark] .colab-df-convert {\n",
              "      background-color: #3B4455;\n",
              "      fill: #D2E3FC;\n",
              "    }\n",
              "\n",
              "    [theme=dark] .colab-df-convert:hover {\n",
              "      background-color: #434B5C;\n",
              "      box-shadow: 0px 1px 3px 1px rgba(0, 0, 0, 0.15);\n",
              "      filter: drop-shadow(0px 1px 2px rgba(0, 0, 0, 0.3));\n",
              "      fill: #FFFFFF;\n",
              "    }\n",
              "  </style>\n",
              "\n",
              "      <script>\n",
              "        const buttonEl =\n",
              "          document.querySelector('#df-fc109170-8d1a-4062-b6e7-d5f2e2093c0a button.colab-df-convert');\n",
              "        buttonEl.style.display =\n",
              "          google.colab.kernel.accessAllowed ? 'block' : 'none';\n",
              "\n",
              "        async function convertToInteractive(key) {\n",
              "          const element = document.querySelector('#df-fc109170-8d1a-4062-b6e7-d5f2e2093c0a');\n",
              "          const dataTable =\n",
              "            await google.colab.kernel.invokeFunction('convertToInteractive',\n",
              "                                                     [key], {});\n",
              "          if (!dataTable) return;\n",
              "\n",
              "          const docLinkHtml = 'Like what you see? Visit the ' +\n",
              "            '<a target=\"_blank\" href=https://colab.research.google.com/notebooks/data_table.ipynb>data table notebook</a>'\n",
              "            + ' to learn more about interactive tables.';\n",
              "          element.innerHTML = '';\n",
              "          dataTable['output_type'] = 'display_data';\n",
              "          await google.colab.output.renderOutput(dataTable, element);\n",
              "          const docLink = document.createElement('div');\n",
              "          docLink.innerHTML = docLinkHtml;\n",
              "          element.appendChild(docLink);\n",
              "        }\n",
              "      </script>\n",
              "    </div>\n",
              "  </div>\n",
              "  "
            ]
          },
          "metadata": {},
          "execution_count": 6
        }
      ],
      "source": [
        "df.describe().transpose()"
      ]
    },
    {
      "cell_type": "code",
      "source": [
        "df.info()"
      ],
      "metadata": {
        "colab": {
          "base_uri": "https://localhost:8080/"
        },
        "id": "-MoHbbn5mMeK",
        "outputId": "6e822238-2651-47cf-b78a-65f468c116e0"
      },
      "execution_count": null,
      "outputs": [
        {
          "output_type": "stream",
          "name": "stdout",
          "text": [
            "<class 'pandas.core.frame.DataFrame'>\n",
            "RangeIndex: 93103 entries, 0 to 93102\n",
            "Data columns (total 25 columns):\n",
            " #   Column             Non-Null Count  Dtype  \n",
            "---  ------             --------------  -----  \n",
            " 0   name               93103 non-null  object \n",
            " 1   isFork             93103 non-null  bool   \n",
            " 2   commits            93060 non-null  float64\n",
            " 3   branches           93103 non-null  int64  \n",
            " 4   defaultBranch      93103 non-null  object \n",
            " 5   releases           93103 non-null  int64  \n",
            " 6   contributors       86168 non-null  float64\n",
            " 7   license            93103 non-null  object \n",
            " 8   watchers           93103 non-null  int64  \n",
            " 9   stargazers         93103 non-null  int64  \n",
            " 10  forks              93103 non-null  int64  \n",
            " 11  size               93103 non-null  int64  \n",
            " 12  createdAt          93103 non-null  object \n",
            " 13  pushedAt           93103 non-null  object \n",
            " 14  updatedAt          93103 non-null  object \n",
            " 15  homepage           24498 non-null  object \n",
            " 16  mainLanguage       93103 non-null  object \n",
            " 17  totalIssues        90993 non-null  float64\n",
            " 18  openIssues         90993 non-null  float64\n",
            " 19  totalPullRequests  91217 non-null  float64\n",
            " 20  openPullRequests   91217 non-null  float64\n",
            " 21  lastCommit         93103 non-null  object \n",
            " 22  lastCommitSHA      93103 non-null  object \n",
            " 23  hasWiki            93103 non-null  bool   \n",
            " 24  isArchived         93103 non-null  bool   \n",
            "dtypes: bool(3), float64(6), int64(6), object(10)\n",
            "memory usage: 15.9+ MB\n"
          ]
        }
      ]
    },
    {
      "cell_type": "code",
      "source": [
        "df.describe().columns"
      ],
      "metadata": {
        "colab": {
          "base_uri": "https://localhost:8080/"
        },
        "id": "I6En9YqTi6yD",
        "outputId": "e4d1e1a3-a4f3-4492-df30-5d74f7be48be"
      },
      "execution_count": null,
      "outputs": [
        {
          "output_type": "execute_result",
          "data": {
            "text/plain": [
              "Index(['commits', 'branches', 'releases', 'contributors', 'watchers',\n",
              "       'stargazers', 'forks', 'size', 'totalIssues', 'openIssues',\n",
              "       'totalPullRequests', 'openPullRequests'],\n",
              "      dtype='object')"
            ]
          },
          "metadata": {},
          "execution_count": 8
        }
      ]
    },
    {
      "cell_type": "code",
      "execution_count": null,
      "metadata": {
        "colab": {
          "base_uri": "https://localhost:8080/"
        },
        "id": "LxH3KS6NqT4l",
        "outputId": "2ae1d605-8957-4374-e037-9f911e04746e"
      },
      "outputs": [
        {
          "output_type": "execute_result",
          "data": {
            "text/plain": [
              "name                     0\n",
              "isFork                   0\n",
              "commits                 43\n",
              "branches                 0\n",
              "defaultBranch            0\n",
              "releases                 0\n",
              "contributors          6935\n",
              "license                  0\n",
              "watchers                 0\n",
              "stargazers               0\n",
              "forks                    0\n",
              "size                     0\n",
              "createdAt                0\n",
              "pushedAt                 0\n",
              "updatedAt                0\n",
              "homepage             68605\n",
              "mainLanguage             0\n",
              "totalIssues           2110\n",
              "openIssues            2110\n",
              "totalPullRequests     1886\n",
              "openPullRequests      1886\n",
              "lastCommit               0\n",
              "lastCommitSHA            0\n",
              "hasWiki                  0\n",
              "isArchived               0\n",
              "dtype: int64"
            ]
          },
          "metadata": {},
          "execution_count": 9
        }
      ],
      "source": [
        "df.isnull().sum()"
      ]
    },
    {
      "cell_type": "code",
      "execution_count": null,
      "metadata": {
        "colab": {
          "base_uri": "https://localhost:8080/"
        },
        "id": "0aCDct4oqX60",
        "outputId": "eb6cc5b7-e94d-4784-c034-65d866b2b89b"
      },
      "outputs": [
        {
          "output_type": "execute_result",
          "data": {
            "text/plain": [
              "0"
            ]
          },
          "metadata": {},
          "execution_count": 10
        }
      ],
      "source": [
        "df.duplicated().sum()"
      ]
    },
    {
      "cell_type": "code",
      "execution_count": null,
      "metadata": {
        "colab": {
          "base_uri": "https://localhost:8080/"
        },
        "id": "9G4Ui-Jjqegz",
        "outputId": "8e52daa0-2cb2-418e-ca6d-5311577fdae1"
      },
      "outputs": [
        {
          "output_type": "execute_result",
          "data": {
            "text/plain": [
              "['Apache License 2.0',\n",
              " 'BSD 2-Clause Simplified License',\n",
              " 'BSD 3-Clause New or Revised License',\n",
              " 'Creative Commons Zero v1.0 Universal',\n",
              " 'Boost Software License 1.0',\n",
              " 'GNU Affero General Public License v3.0',\n",
              " 'Eclipse Public License 2.0',\n",
              " 'GNU General Public License v3.0',\n",
              " 'GNU Lesser General Public License v2.1',\n",
              " 'MIT License',\n",
              " 'Mozilla Public License 2.0',\n",
              " 'The Unlicense']"
            ]
          },
          "metadata": {},
          "execution_count": 11
        }
      ],
      "source": [
        "lic = [\"Apache License 2.0\", \"BSD 2-Clause Simplified License\", \"BSD 3-Clause New or Revised License\", \"Creative Commons Zero v1.0 Universal\", \"Boost Software License 1.0\", \"GNU Affero General Public License v3.0\", \"Eclipse Public License 2.0\", \"GNU General Public License v3.0\", \"GNU Lesser General Public License v2.1\", \"MIT License\", \"Mozilla Public License 2.0\", \"The Unlicense\"]\n",
        "lic"
      ]
    },
    {
      "cell_type": "code",
      "execution_count": null,
      "metadata": {
        "colab": {
          "base_uri": "https://localhost:8080/"
        },
        "id": "Y1Nhd1Cgqn9n",
        "outputId": "0d25a385-1c05-4d2b-baff-ce852e7ef760"
      },
      "outputs": [
        {
          "output_type": "execute_result",
          "data": {
            "text/plain": [
              "array(['Apache License 2.0',\n",
              "       'Do What The F*ck You Want To Public License',\n",
              "       'GNU General Public License v3.0', 'Other', 'MIT License',\n",
              "       'BSD 2-Clause Simplified License', 'The Unlicense',\n",
              "       'GNU General Public License v2.0',\n",
              "       'GNU Lesser General Public License v2.1',\n",
              "       'BSD 3-Clause New or Revised License',\n",
              "       'GNU Lesser General Public License v3.0',\n",
              "       'GNU Affero General Public License v3.0',\n",
              "       'Eclipse Public License 2.0', 'ISC License',\n",
              "       'Creative Commons Zero v1.0 Universal',\n",
              "       'Mozilla Public License 2.0',\n",
              "       'Creative Commons Attribution Share Alike 4.0 International',\n",
              "       'Eclipse Public License 1.0', 'MIT No Attribution', 'zlib License',\n",
              "       'Creative Commons Attribution 4.0 International',\n",
              "       'BSD 4-Clause Original or Old License',\n",
              "       'European Union Public License 1.1', 'SIL Open Font License 1.1',\n",
              "       'Academic Free License v3.0', 'BSD Zero Clause License',\n",
              "       'Educational Community License v2.0', 'BSD 3-Clause Clear License',\n",
              "       'Boost Software License 1.0', 'Artistic License 2.0',\n",
              "       'Universal Permissive License v1.0', 'PostgreSQL License',\n",
              "       'Open Data Commons Open Database License v1.0',\n",
              "       'European Union Public License 1.2',\n",
              "       'CeCILL Free Software License Agreement v2.1',\n",
              "       'University of Illinois/NCSA Open Source License',\n",
              "       'ODC Open Database License v1.0', 'Open Software License 3.0'],\n",
              "      dtype=object)"
            ]
          },
          "metadata": {},
          "execution_count": 12
        }
      ],
      "source": [
        "df.license.unique()"
      ]
    },
    {
      "cell_type": "code",
      "execution_count": null,
      "metadata": {
        "id": "sDwKEaAfwNRw"
      },
      "outputs": [],
      "source": [
        "df = df[df.license.isin(lic)]"
      ]
    },
    {
      "cell_type": "code",
      "execution_count": null,
      "metadata": {
        "colab": {
          "base_uri": "https://localhost:8080/"
        },
        "id": "ox-gHca3weFJ",
        "outputId": "a137a842-1a9b-4577-8b56-be6bc11751b5"
      },
      "outputs": [
        {
          "output_type": "execute_result",
          "data": {
            "text/plain": [
              "(78934, 25)"
            ]
          },
          "metadata": {},
          "execution_count": 14
        }
      ],
      "source": [
        "df.shape"
      ]
    },
    {
      "cell_type": "code",
      "execution_count": null,
      "metadata": {
        "colab": {
          "base_uri": "https://localhost:8080/"
        },
        "id": "qP4l3ykNLCYe",
        "outputId": "d27f3cb4-7839-41fe-d4de-2975c4a7b0a7"
      },
      "outputs": [
        {
          "output_type": "execute_result",
          "data": {
            "text/plain": [
              "['commits',\n",
              " 'branches',\n",
              " 'releases',\n",
              " 'contributors',\n",
              " 'watchers',\n",
              " 'stargazers',\n",
              " 'forks',\n",
              " 'size',\n",
              " 'createdAt',\n",
              " 'pushedAt',\n",
              " 'updatedAt',\n",
              " 'totalIssues',\n",
              " 'openIssues',\n",
              " 'totalPullRequests',\n",
              " 'openPullRequests',\n",
              " 'lastCommit',\n",
              " 'lastCommitSHA',\n",
              " 'license']"
            ]
          },
          "metadata": {},
          "execution_count": 15
        }
      ],
      "source": [
        "# list(df.columns)\n",
        "cols = ['commits', 'branches', 'releases','contributors','watchers','stargazers','forks','size','createdAt','pushedAt','updatedAt','totalIssues','openIssues','totalPullRequests','openPullRequests','lastCommit','lastCommitSHA','license']\n",
        "cols"
      ]
    },
    {
      "cell_type": "code",
      "source": [
        "df['hasWiki'].unique()"
      ],
      "metadata": {
        "colab": {
          "base_uri": "https://localhost:8080/"
        },
        "id": "CasPYI131k8a",
        "outputId": "f00eeea3-4f72-4275-9ad7-fd18db92f4f7"
      },
      "execution_count": null,
      "outputs": [
        {
          "output_type": "execute_result",
          "data": {
            "text/plain": [
              "array([ True, False])"
            ]
          },
          "metadata": {},
          "execution_count": 20
        }
      ]
    },
    {
      "cell_type": "code",
      "source": [
        "df[df['hasWiki']==False]['hasWiki'].count()\n"
      ],
      "metadata": {
        "colab": {
          "base_uri": "https://localhost:8080/"
        },
        "id": "3V2LWB2A2EwZ",
        "outputId": "9e382183-b4b0-4de9-b930-7aee61c8ebd1"
      },
      "execution_count": null,
      "outputs": [
        {
          "output_type": "execute_result",
          "data": {
            "text/plain": [
              "11445"
            ]
          },
          "metadata": {},
          "execution_count": 21
        }
      ]
    },
    {
      "cell_type": "code",
      "source": [
        "df[df['hasWiki']==True]['hasWiki'].count()"
      ],
      "metadata": {
        "colab": {
          "base_uri": "https://localhost:8080/"
        },
        "id": "-MRM_9i11pI1",
        "outputId": "8c58c134-4525-4de4-a583-7352a8cf151d"
      },
      "execution_count": null,
      "outputs": [
        {
          "output_type": "execute_result",
          "data": {
            "text/plain": [
              "67489"
            ]
          },
          "metadata": {},
          "execution_count": 22
        }
      ]
    },
    {
      "cell_type": "code",
      "source": [
        "labels = ['True', 'False']\n",
        "sizes = [67489, 11445]\n",
        "\n",
        "plt.pie(sizes, labels=labels, autopct='%1.1f%%')\n",
        "\n",
        "plt.title('Has Wiki')\n",
        "plt.show()"
      ],
      "metadata": {
        "colab": {
          "base_uri": "https://localhost:8080/",
          "height": 427
        },
        "id": "8KN85e5Z2YjV",
        "outputId": "34bf4738-9afa-4c61-be0a-df09d9b722c6"
      },
      "execution_count": null,
      "outputs": [
        {
          "output_type": "display_data",
          "data": {
            "text/plain": [
              "<Figure size 720x504 with 1 Axes>"
            ],
            "image/png": "[encoded data removed]"
          },
          "metadata": {}
        }
      ]
    },
    {
      "cell_type": "code",
      "execution_count": null,
      "metadata": {
        "id": "oKigZci7bBKH"
      },
      "outputs": [],
      "source": [
        "cols = ['commits','contributors','forks','size','totalIssues','totalPullRequests']\n",
        "oth = ['createdAt','license']"
      ]
    },
    {
      "cell_type": "code",
      "execution_count": null,
      "metadata": {
        "colab": {
          "base_uri": "https://localhost:8080/"
        },
        "id": "nx_LBF6gbBZb",
        "outputId": "642d0d65-f50d-4b61-a322-546a8843db3b"
      },
      "outputs": [
        {
          "output_type": "execute_result",
          "data": {
            "text/plain": [
              "['commits',\n",
              " 'contributors',\n",
              " 'forks',\n",
              " 'size',\n",
              " 'totalIssues',\n",
              " 'totalPullRequests']"
            ]
          },
          "metadata": {},
          "execution_count": 26
        }
      ],
      "source": [
        "cols"
      ]
    },
    {
      "cell_type": "code",
      "execution_count": null,
      "metadata": {
        "colab": {
          "base_uri": "https://localhost:8080/",
          "height": 1000
        },
        "id": "0lKtKgblbBwv",
        "outputId": "fccaa3c7-0df2-4721-d32e-512fa1b72265"
      },
      "outputs": [
        {
          "output_type": "display_data",
          "data": {
            "text/plain": [
              "<Figure size 720x504 with 1 Axes>"
            ],
            "image/png": "[encoded data removed]"
          },
          "metadata": {}
        },
        {
          "output_type": "display_data",
          "data": {
            "text/plain": [
              "<Figure size 432x288 with 1 Axes>"
            ],
            "image/png": "[encoded data removed]"
          },
          "metadata": {}
        },
        {
          "output_type": "display_data",
          "data": {
            "text/plain": [
              "<Figure size 432x288 with 1 Axes>"
            ],
            "image/png": "[encoded data removed]"
          },
          "metadata": {}
        },
        {
          "output_type": "display_data",
          "data": {
            "text/plain": [
              "<Figure size 432x288 with 1 Axes>"
            ],
            "image/png": "[encoded data removed]"
          },
          "metadata": {}
        },
        {
          "output_type": "display_data",
          "data": {
            "text/plain": [
              "<Figure size 432x288 with 1 Axes>"
            ],
            "image/png": "[encoded data removed]"
          },
          "metadata": {}
        },
        {
          "output_type": "display_data",
          "data": {
            "text/plain": [
              "<Figure size 432x288 with 1 Axes>"
            ],
            "image/png": "[encoded data removed]"
          },
          "metadata": {}
        }
      ],
      "source": [
        "for i in cols:\n",
        "  # Density Plot and Histogram of all arrival delays\n",
        "  sns.distplot(df[i], hist=True, kde=True, \n",
        "              bins=int(180/5), color = 'darkblue', \n",
        "              hist_kws={'edgecolor':'black'})\n",
        "  sns.set(rc={'figure.figsize':(6,4)})\n",
        "  plt.xlabel(i)\n",
        "  plt.show()"
      ]
    },
    {
      "cell_type": "code",
      "execution_count": null,
      "metadata": {
        "id": "I1ZDepS0hzj6"
      },
      "outputs": [],
      "source": [
        "df['license'] = df['license'].str.replace(\" \",\"\")\n",
        "df['license'] = df['license'].str.replace(\"\\n\",\"\")"
      ]
    },
    {
      "cell_type": "code",
      "execution_count": null,
      "metadata": {
        "colab": {
          "base_uri": "https://localhost:8080/",
          "height": 624
        },
        "id": "tzh98maGhCwZ",
        "outputId": "d951bcb7-1407-4015-ef91-361b093905d4"
      },
      "outputs": [
        {
          "output_type": "execute_result",
          "data": {
            "text/plain": [
              "(array([ 0,  1,  2,  3,  4,  5,  6,  7,  8,  9, 10, 11]),\n",
              " <a list of 12 Text major ticklabel objects>)"
            ]
          },
          "metadata": {},
          "execution_count": 33
        },
        {
          "output_type": "display_data",
          "data": {
            "text/plain": [
              "<Figure size 720x504 with 1 Axes>"
            ],
            "image/png": "[encoded data removed]"
          },
          "metadata": {}
        }
      ],
      "source": [
        "sns.countplot(df.license,order = df['license'].value_counts().index)\n",
        "sns.set(rc={'figure.figsize':(10,7)})\n",
        "plt.xticks(rotation=45)\n"
      ]
    },
    {
      "cell_type": "code",
      "source": [
        "df.describe().transpose()"
      ],
      "metadata": {
        "colab": {
          "base_uri": "https://localhost:8080/",
          "height": 426
        },
        "id": "N53dnXsonFQ4",
        "outputId": "66b69abb-b143-4c25-bbee-8d74240c5ad6"
      },
      "execution_count": null,
      "outputs": [
        {
          "output_type": "execute_result",
          "data": {
            "text/plain": [
              "                     count          mean            std   min    25%    50%  \\\n",
              "commits            78897.0    361.654499    1971.727475   1.0   27.0   78.0   \n",
              "branches           78934.0      5.448387      47.357541   1.0    1.0    2.0   \n",
              "releases           78934.0      5.818190      24.720711   0.0    0.0    0.0   \n",
              "contributors       72696.0      8.798407      25.604788   0.0    2.0    3.0   \n",
              "watchers           78934.0     12.590417      56.467860   0.0    2.0    5.0   \n",
              "stargazers         78934.0    226.813515    1597.300892  10.0   16.0   33.0   \n",
              "forks              78934.0     51.883688     362.125049   0.0    4.0   10.0   \n",
              "size               78934.0  28463.292675  313572.103944   0.0  151.0  995.0   \n",
              "totalIssues        77072.0     49.862388     397.277425   0.0    2.0    7.0   \n",
              "openIssues         77072.0     10.323438      49.103880   0.0    0.0    2.0   \n",
              "totalPullRequests  77244.0     66.246388     467.530226   0.0    1.0    5.0   \n",
              "openPullRequests   77244.0      2.098843      71.537547   0.0    0.0    0.0   \n",
              "\n",
              "                      75%         max  \n",
              "commits             240.0    225572.0  \n",
              "branches              4.0     11573.0  \n",
              "releases              4.0      2340.0  \n",
              "contributors          7.0       766.0  \n",
              "watchers             10.0      6052.0  \n",
              "stargazers           97.0    210736.0  \n",
              "forks                27.0     36852.0  \n",
              "size               8852.0  36508253.0  \n",
              "totalIssues          25.0     71873.0  \n",
              "openIssues            6.0      3864.0  \n",
              "totalPullRequests    28.0     47480.0  \n",
              "openPullRequests      1.0     19604.0  "
            ],
            "text/html": [
              "\n",
              "  <div id=\"df-45bfd39b-a50a-45b7-b5f9-1038769e2589\">\n",
              "    <div class=\"colab-df-container\">\n",
              "      <div>\n",
              "<style scoped>\n",
              "    .dataframe tbody tr th:only-of-type {\n",
              "        vertical-align: middle;\n",
              "    }\n",
              "\n",
              "    .dataframe tbody tr th {\n",
              "        vertical-align: top;\n",
              "    }\n",
              "\n",
              "    .dataframe thead th {\n",
              "        text-align: right;\n",
              "    }\n",
              "</style>\n",
              "<table border=\"1\" class=\"dataframe\">\n",
              "  <thead>\n",
              "    <tr style=\"text-align: right;\">\n",
              "      <th></th>\n",
              "      <th>count</th>\n",
              "      <th>mean</th>\n",
              "      <th>std</th>\n",
              "      <th>min</th>\n",
              "      <th>25%</th>\n",
              "      <th>50%</th>\n",
              "      <th>75%</th>\n",
              "      <th>max</th>\n",
              "    </tr>\n",
              "  </thead>\n",
              "  <tbody>\n",
              "    <tr>\n",
              "      <th>commits</th>\n",
              "      <td>78897.0</td>\n",
              "      <td>361.654499</td>\n",
              "      <td>1971.727475</td>\n",
              "      <td>1.0</td>\n",
              "      <td>27.0</td>\n",
              "      <td>78.0</td>\n",
              "      <td>240.0</td>\n",
              "      <td>225572.0</td>\n",
              "    </tr>\n",
              "    <tr>\n",
              "      <th>branches</th>\n",
              "      <td>78934.0</td>\n",
              "      <td>5.448387</td>\n",
              "      <td>47.357541</td>\n",
              "      <td>1.0</td>\n",
              "      <td>1.0</td>\n",
              "      <td>2.0</td>\n",
              "      <td>4.0</td>\n",
              "      <td>11573.0</td>\n",
              "    </tr>\n",
              "    <tr>\n",
              "      <th>releases</th>\n",
              "      <td>78934.0</td>\n",
              "      <td>5.818190</td>\n",
              "      <td>24.720711</td>\n",
              "      <td>0.0</td>\n",
              "      <td>0.0</td>\n",
              "      <td>0.0</td>\n",
              "      <td>4.0</td>\n",
              "      <td>2340.0</td>\n",
              "    </tr>\n",
              "    <tr>\n",
              "      <th>contributors</th>\n",
              "      <td>72696.0</td>\n",
              "      <td>8.798407</td>\n",
              "      <td>25.604788</td>\n",
              "      <td>0.0</td>\n",
              "      <td>2.0</td>\n",
              "      <td>3.0</td>\n",
              "      <td>7.0</td>\n",
              "      <td>766.0</td>\n",
              "    </tr>\n",
              "    <tr>\n",
              "      <th>watchers</th>\n",
              "      <td>78934.0</td>\n",
              "      <td>12.590417</td>\n",
              "      <td>56.467860</td>\n",
              "      <td>0.0</td>\n",
              "      <td>2.0</td>\n",
              "      <td>5.0</td>\n",
              "      <td>10.0</td>\n",
              "      <td>6052.0</td>\n",
              "    </tr>\n",
              "    <tr>\n",
              "      <th>stargazers</th>\n",
              "      <td>78934.0</td>\n",
              "      <td>226.813515</td>\n",
              "      <td>1597.300892</td>\n",
              "      <td>10.0</td>\n",
              "      <td>16.0</td>\n",
              "      <td>33.0</td>\n",
              "      <td>97.0</td>\n",
              "      <td>210736.0</td>\n",
              "    </tr>\n",
              "    <tr>\n",
              "      <th>forks</th>\n",
              "      <td>78934.0</td>\n",
              "      <td>51.883688</td>\n",
              "      <td>362.125049</td>\n",
              "      <td>0.0</td>\n",
              "      <td>4.0</td>\n",
              "      <td>10.0</td>\n",
              "      <td>27.0</td>\n",
              "      <td>36852.0</td>\n",
              "    </tr>\n",
              "    <tr>\n",
              "      <th>size</th>\n",
              "      <td>78934.0</td>\n",
              "      <td>28463.292675</td>\n",
              "      <td>313572.103944</td>\n",
              "      <td>0.0</td>\n",
              "      <td>151.0</td>\n",
              "      <td>995.0</td>\n",
              "      <td>8852.0</td>\n",
              "      <td>36508253.0</td>\n",
              "    </tr>\n",
              "    <tr>\n",
              "      <th>totalIssues</th>\n",
              "      <td>77072.0</td>\n",
              "      <td>49.862388</td>\n",
              "      <td>397.277425</td>\n",
              "      <td>0.0</td>\n",
              "      <td>2.0</td>\n",
              "      <td>7.0</td>\n",
              "      <td>25.0</td>\n",
              "      <td>71873.0</td>\n",
              "    </tr>\n",
              "    <tr>\n",
              "      <th>openIssues</th>\n",
              "      <td>77072.0</td>\n",
              "      <td>10.323438</td>\n",
              "      <td>49.103880</td>\n",
              "      <td>0.0</td>\n",
              "      <td>0.0</td>\n",
              "      <td>2.0</td>\n",
              "      <td>6.0</td>\n",
              "      <td>3864.0</td>\n",
              "    </tr>\n",
              "    <tr>\n",
              "      <th>totalPullRequests</th>\n",
              "      <td>77244.0</td>\n",
              "      <td>66.246388</td>\n",
              "      <td>467.530226</td>\n",
              "      <td>0.0</td>\n",
              "      <td>1.0</td>\n",
              "      <td>5.0</td>\n",
              "      <td>28.0</td>\n",
              "      <td>47480.0</td>\n",
              "    </tr>\n",
              "    <tr>\n",
              "      <th>openPullRequests</th>\n",
              "      <td>77244.0</td>\n",
              "      <td>2.098843</td>\n",
              "      <td>71.537547</td>\n",
              "      <td>0.0</td>\n",
              "      <td>0.0</td>\n",
              "      <td>0.0</td>\n",
              "      <td>1.0</td>\n",
              "      <td>19604.0</td>\n",
              "    </tr>\n",
              "  </tbody>\n",
              "</table>\n",
              "</div>\n",
              "      <button class=\"colab-df-convert\" onclick=\"convertToInteractive('df-45bfd39b-a50a-45b7-b5f9-1038769e2589')\"\n",
              "              title=\"Convert this dataframe to an interactive table.\"\n",
              "              style=\"display:none;\">\n",
              "        \n",
              "  <svg xmlns=\"http://www.w3.org/2000/svg\" height=\"24px\"viewBox=\"0 0 24 24\"\n",
              "       width=\"24px\">\n",
              "    <path d=\"M0 0h24v24H0V0z\" fill=\"none\"/>\n",
              "    <path d=\"M18.56 5.44l.94 2.06.94-2.06 2.06-.94-2.06-.94-.94-2.06-.94 2.06-2.06.94zm-11 1L8.5 8.5l.94-2.06 2.06-.94-2.06-.94L8.5 2.5l-.94 2.06-2.06.94zm10 10l.94 2.06.94-2.06 2.06-.94-2.06-.94-.94-2.06-.94 2.06-2.06.94z\"/><path d=\"M17.41 7.96l-1.37-1.37c-.4-.4-.92-.59-1.43-.59-.52 0-1.04.2-1.43.59L10.3 9.45l-7.72 7.72c-.78.78-.78 2.05 0 2.83L4 21.41c.39.39.9.59 1.41.59.51 0 1.02-.2 1.41-.59l7.78-7.78 2.81-2.81c.8-.78.8-2.07 0-2.86zM5.41 20L4 18.59l7.72-7.72 1.47 1.35L5.41 20z\"/>\n",
              "  </svg>\n",
              "      </button>\n",
              "      \n",
              "  <style>\n",
              "    .colab-df-container {\n",
              "      display:flex;\n",
              "      flex-wrap:wrap;\n",
              "      gap: 12px;\n",
              "    }\n",
              "\n",
              "    .colab-df-convert {\n",
              "      background-color: #E8F0FE;\n",
              "      border: none;\n",
              "      border-radius: 50%;\n",
              "      cursor: pointer;\n",
              "      display: none;\n",
              "      fill: #1967D2;\n",
              "      height: 32px;\n",
              "      padding: 0 0 0 0;\n",
              "      width: 32px;\n",
              "    }\n",
              "\n",
              "    .colab-df-convert:hover {\n",
              "      background-color: #E2EBFA;\n",
              "      box-shadow: 0px 1px 2px rgba(60, 64, 67, 0.3), 0px 1px 3px 1px rgba(60, 64, 67, 0.15);\n",
              "      fill: #174EA6;\n",
              "    }\n",
              "\n",
              "    [theme=dark] .colab-df-convert {\n",
              "      background-color: #3B4455;\n",
              "      fill: #D2E3FC;\n",
              "    }\n",
              "\n",
              "    [theme=dark] .colab-df-convert:hover {\n",
              "      background-color: #434B5C;\n",
              "      box-shadow: 0px 1px 3px 1px rgba(0, 0, 0, 0.15);\n",
              "      filter: drop-shadow(0px 1px 2px rgba(0, 0, 0, 0.3));\n",
              "      fill: #FFFFFF;\n",
              "    }\n",
              "  </style>\n",
              "\n",
              "      <script>\n",
              "        const buttonEl =\n",
              "          document.querySelector('#df-45bfd39b-a50a-45b7-b5f9-1038769e2589 button.colab-df-convert');\n",
              "        buttonEl.style.display =\n",
              "          google.colab.kernel.accessAllowed ? 'block' : 'none';\n",
              "\n",
              "        async function convertToInteractive(key) {\n",
              "          const element = document.querySelector('#df-45bfd39b-a50a-45b7-b5f9-1038769e2589');\n",
              "          const dataTable =\n",
              "            await google.colab.kernel.invokeFunction('convertToInteractive',\n",
              "                                                     [key], {});\n",
              "          if (!dataTable) return;\n",
              "\n",
              "          const docLinkHtml = 'Like what you see? Visit the ' +\n",
              "            '<a target=\"_blank\" href=https://colab.research.google.com/notebooks/data_table.ipynb>data table notebook</a>'\n",
              "            + ' to learn more about interactive tables.';\n",
              "          element.innerHTML = '';\n",
              "          dataTable['output_type'] = 'display_data';\n",
              "          await google.colab.output.renderOutput(dataTable, element);\n",
              "          const docLink = document.createElement('div');\n",
              "          docLink.innerHTML = docLinkHtml;\n",
              "          element.appendChild(docLink);\n",
              "        }\n",
              "      </script>\n",
              "    </div>\n",
              "  </div>\n",
              "  "
            ]
          },
          "metadata": {},
          "execution_count": 34
        }
      ]
    }
  ],
  "metadata": {
    "colab": {
      "provenance": []
    },
    "kernelspec": {
      "display_name": "Python 3",
      "name": "python3"
    },
    "language_info": {
      "name": "python"
    }
  },
  "nbformat": 4,
  "nbformat_minor": 0
}