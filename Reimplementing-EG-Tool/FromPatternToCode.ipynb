{
 "cells": [
  {
   "cell_type": "code",
   "execution_count": null,
   "metadata": {},
   "outputs": [
    {
     "ename": "",
     "evalue": "",
     "output_type": "error",
     "traceback": [
      "\u001b[1;31mRunning cells with 'Python 3.8.3 32-bit' requires ipykernel package.\n",
      "\u001b[1;31mRun the following command to install 'ipykernel' into the Python environment. \n",
      "\u001b[1;31mCommand: 'c:/Users/menna/AppData/Local/Programs/Python/Python38-32/python.exe -m pip install ipykernel -U --user --force-reinstall'"
     ]
    }
   ],
   "source": [
    "import ast"
   ]
  },
  {
   "cell_type": "code",
   "execution_count": null,
   "metadata": {},
   "outputs": [
    {
     "ename": "",
     "evalue": "",
     "output_type": "error",
     "traceback": [
      "\u001b[1;31mRunning cells with 'Python 3.8.3 32-bit' requires ipykernel package.\n",
      "\u001b[1;31mRun the following command to install 'ipykernel' into the Python environment. \n",
      "\u001b[1;31mCommand: 'c:/Users/menna/AppData/Local/Programs/Python/Python38-32/python.exe -m pip install ipykernel -U --user --force-reinstall'"
     ]
    }
   ],
   "source": [
    "common_pattern=\"\"\"t # 23\n",
    "v 0 Assign\n",
    "v 1 Module\n",
    "v 2 Assign\n",
    "v 3 Call\n",
    "v 4 Attribute#attr=pop\n",
    "v 5 Load\n",
    "v 6 Call\n",
    "v 7 Str\n",
    "v 8 Attribute#attr=split\n",
    "v 9 Load\n",
    "e 0 1 body0\n",
    "e 0 6 value\n",
    "e 1 2 body1\n",
    "e 2 3 value\n",
    "e 3 4 func\n",
    "e 4 5 ctx\n",
    "e 6 7 args\n",
    "e 6 8 func\n",
    "e 8 9 ctx \"\"\""
   ]
  },
  {
   "cell_type": "code",
   "execution_count": null,
   "metadata": {},
   "outputs": [],
   "source": [
    "ex = '''#pattern '''\n",
    "root = ast.parse(ex)\n",
    "ast.dump(root)"
   ]
  },
  {
   "cell_type": "code",
   "execution_count": null,
   "metadata": {},
   "outputs": [],
   "source": [
    "import importlib\n",
    "\n",
    "def class_for_name(module_name, class_name):\n",
    "    # load the module, will raise ImportError if module cannot be loaded\n",
    "    m = importlib.import_module(module_name)\n",
    "    # get the class, will raise AttributeError if class cannot be found\n",
    "    c = getattr(m, class_name)\n",
    "    return c\n",
    "\n",
    "loaded_class = class_for_name('ast', 'Assign')"
   ]
  },
  {
   "cell_type": "code",
   "execution_count": null,
   "metadata": {},
   "outputs": [],
   "source": [
    "assign_node0 =loaded_class([], ast.Call(ast.Attribute(ast.Name(\"\",ast.Load()),\"split\",ast.Load()),[ast.Str('.')],[]))\n",
    "root.body.insert(0, assign_node0)"
   ]
  },
  {
   "cell_type": "code",
   "execution_count": null,
   "metadata": {},
   "outputs": [],
   "source": [
    "assign_node = ast.Assign([], ast.Call(ast.Attribute(ast.Name(\"\",ast.Load()),\"pop\",ast.Load()),[],[]))\n",
    "root.body.insert(1, assign_node)"
   ]
  },
  {
   "cell_type": "code",
   "execution_count": null,
   "metadata": {},
   "outputs": [],
   "source": [
    "ast.fix_missing_locations(root)\n",
    "ast.dump(root)\n",
    "astor.to_source(root)"
   ]
  }
 ],
 "metadata": {
  "kernelspec": {
   "display_name": "Python 3.8.3 32-bit",
   "language": "python",
   "name": "python3"
  },
  "language_info": {
   "name": "python",
   "version": "3.8.3"
  },
  "orig_nbformat": 4,
  "vscode": {
   "interpreter": {
    "hash": "a10c42ec0cb01f3ae84da98695df852d02712c4f63b47af8b2a39bb2c01da9fb"
   }
  }
 },
 "nbformat": 4,
 "nbformat_minor": 2
}
