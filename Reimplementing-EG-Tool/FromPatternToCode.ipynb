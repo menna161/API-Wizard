{
  "nbformat": 4,
  "nbformat_minor": 0,
  "metadata": {
    "colab": {
      "provenance": [],
      "toc_visible": true
    },
    "kernelspec": {
      "name": "python3",
      "display_name": "Python 3"
    },
    "language_info": {
      "name": "python"
    }
  },
  "cells": [
    {
      "cell_type": "code",
      "execution_count": null,
      "metadata": {
        "id": "Fi4wU_FGE1Ql"
      },
      "outputs": [],
      "source": [
        "import ast\n",
        "import astor"
      ]
    },
    {
      "cell_type": "markdown",
      "source": [
        "#drop_duplicates"
      ],
      "metadata": {
        "id": "B_oCZNp_eGAh"
      }
    },
    {
      "cell_type": "code",
      "source": [
        "ex = '''#pattern '''\n",
        "root = ast.parse(ex)\n",
        "ast.dump(root)"
      ],
      "metadata": {
        "colab": {
          "base_uri": "https://localhost:8080/",
          "height": 35
        },
        "id": "msTRe_4GeJVS",
        "outputId": "d0890d68-6479-43fa-98e4-fc73b1fceba1"
      },
      "execution_count": null,
      "outputs": [
        {
          "output_type": "execute_result",
          "data": {
            "text/plain": [
              "'Module(body=[], type_ignores=[])'"
            ],
            "application/vnd.google.colaboratory.intrinsic+json": {
              "type": "string"
            }
          },
          "metadata": {},
          "execution_count": 27
        }
      ]
    },
    {
      "cell_type": "code",
      "source": [
        "assign_node0 =ast.Assign(\n",
        "    [ast.Name(\"PLACEHOLDER\",ast.Load())],\n",
        "    ast.Call(\n",
        "        ast.Attribute(ast.Name(\"PLACEHOLDER\",ast.Load()),\"drop_duplicates\",ast.Load())\n",
        "        ,[ast.Constant(value='PLACEHOLDER')],\n",
        "        []))\n",
        "root.body.insert(0, assign_node0)"
      ],
      "metadata": {
        "id": "W9hXFyQoeOzq"
      },
      "execution_count": null,
      "outputs": []
    },
    {
      "cell_type": "code",
      "source": [
        "expr_node = ast.Expr(\n",
        "    ast.Call(\n",
        "        ast.Attribute(ast.Name(\"PLACEHOLDER\",ast.Load()),\"assert_frame_equal\",ast.Load()),\n",
        "        [],\n",
        "        []))\n",
        "root.body.insert(1, expr_node)"
      ],
      "metadata": {
        "id": "uIcfGRCrfOpM"
      },
      "execution_count": null,
      "outputs": []
    },
    {
      "cell_type": "code",
      "source": [
        "ast.fix_missing_locations(root)\n",
        "ast.dump(root)\n",
        "astor.to_source(root)"
      ],
      "metadata": {
        "colab": {
          "base_uri": "https://localhost:8080/"
        },
        "id": "ZdaxvXVZgtsu",
        "outputId": "d4b480ec-5f58-4f34-d4d7-1bc932600d6a"
      },
      "execution_count": null,
      "outputs": [
        {
          "output_type": "execute_result",
          "data": {
            "text/plain": [
              "\"PLACEHOLDER = PLACEHOLDER.drop_duplicates('PLACEHOLDER')\\nPLACEHOLDER.assert_frame_equal()\\n\""
            ],
            "application/vnd.google.colaboratory.intrinsic+json": {
              "type": "string"
            }
          },
          "metadata": {},
          "execution_count": 30
        }
      ]
    },
    {
      "cell_type": "markdown",
      "source": [
        "# Eg example"
      ],
      "metadata": {
        "id": "UBEnnLNP7uea"
      }
    },
    {
      "cell_type": "code",
      "source": [
        "common_pattern=\"\"\"t # 23\n",
        "v 0 Assign\n",
        "v 1 Module\n",
        "v 2 Assign\n",
        "v 3 Call\n",
        "v 4 Attribute#attr=pop\n",
        "v 5 Load\n",
        "v 6 Call\n",
        "v 7 Str\n",
        "v 8 Attribute#attr=split\n",
        "v 9 Load\n",
        "e 0 1 body0\n",
        "e 0 6 value\n",
        "e 1 2 body1\n",
        "e 2 3 value\n",
        "e 3 4 func\n",
        "e 4 5 ctx\n",
        "e 6 7 args\n",
        "e 6 8 func\n",
        "e 8 9 ctx \"\"\""
      ],
      "metadata": {
        "id": "brRqYABOE4Yf"
      },
      "execution_count": null,
      "outputs": []
    },
    {
      "cell_type": "code",
      "source": [
        "ex = '''#pattern '''\n",
        "root = ast.parse(ex)\n",
        "ast.dump(root)"
      ],
      "metadata": {
        "id": "7-tbqWPdE4g9",
        "colab": {
          "base_uri": "https://localhost:8080/",
          "height": 35
        },
        "outputId": "5aefdf91-20ce-4b18-9738-7844a72b0c6e"
      },
      "execution_count": null,
      "outputs": [
        {
          "output_type": "execute_result",
          "data": {
            "text/plain": [
              "'Module(body=[], type_ignores=[])'"
            ],
            "application/vnd.google.colaboratory.intrinsic+json": {
              "type": "string"
            }
          },
          "metadata": {},
          "execution_count": 8
        }
      ]
    },
    {
      "cell_type": "code",
      "source": [
        "import importlib\n",
        "\n",
        "def class_for_name(module_name, class_name):\n",
        "    # load the module, will raise ImportError if module cannot be loaded\n",
        "    m = importlib.import_module(module_name)\n",
        "    # get the class, will raise AttributeError if class cannot be found\n",
        "    c = getattr(m, class_name)\n",
        "    return c\n",
        "\n",
        "loaded_class = class_for_name('ast', 'Assign')"
      ],
      "metadata": {
        "id": "HCTizC9gE8aV"
      },
      "execution_count": null,
      "outputs": []
    },
    {
      "cell_type": "code",
      "source": [
        "assign_node0 =ast.Assign([ast.Name(\"PLACEHOLDER\",ast.Load())], ast.Call(ast.Attribute(ast.Name(\"PLACEHOLDER\",ast.Load()),\"split\",ast.Load()),[ast.Str('PLACEHOLDER')],[]))\n",
        "root.body.insert(0, assign_node0)"
      ],
      "metadata": {
        "id": "D5zGl7nAE97U"
      },
      "execution_count": null,
      "outputs": []
    },
    {
      "cell_type": "code",
      "source": [
        "assign_node = ast.Assign([ast.Name(\"PLACEHOLDER\",ast.Store())], ast.Call(ast.Attribute(ast.Name(\"PLACEHOLDER\",ast.Load()),\"pop\",ast.Load()),[],[]))\n",
        "root.body.insert(1, assign_node)"
      ],
      "metadata": {
        "id": "nzml3YFVFALv"
      },
      "execution_count": null,
      "outputs": []
    },
    {
      "cell_type": "code",
      "source": [
        "ast.fix_missing_locations(root)\n",
        "ast.dump(root)\n",
        "astor.to_source(root)"
      ],
      "metadata": {
        "id": "KkvjnzRsFApr",
        "colab": {
          "base_uri": "https://localhost:8080/",
          "height": 35
        },
        "outputId": "00f79a9f-90d9-42d8-fd20-40020348b457"
      },
      "execution_count": null,
      "outputs": [
        {
          "output_type": "execute_result",
          "data": {
            "text/plain": [
              "\"PLACEHOLDER = PLACEHOLDER.split('PLACEHOLDER')\\nPLACEHOLDER = PLACEHOLDER.pop()\\n\""
            ],
            "application/vnd.google.colaboratory.intrinsic+json": {
              "type": "string"
            }
          },
          "metadata": {},
          "execution_count": 11
        }
      ]
    },
    {
      "cell_type": "markdown",
      "source": [
        "#MinMax"
      ],
      "metadata": {
        "id": "l76YoQeo7xdq"
      }
    },
    {
      "cell_type": "code",
      "source": [
        "common_pattern=\"\"\"t # 0\n",
        "v 0 Assign\n",
        "v 1 Call\n",
        "v 2 Attribute#attr=fit_transform\n",
        "v 3 Load\n",
        "v 4 Name#id=minmaxscalar\n",
        "v 5 Load\n",
        "e 0 1 value\n",
        "e 1 2 func\n",
        "e 2 3 ctx\n",
        "e 2 4 value\n",
        "e 4 5 ctx\n",
        "Support: 3\n",
        " \"\"\""
      ],
      "metadata": {
        "id": "imfZMNsA74nt"
      },
      "execution_count": null,
      "outputs": []
    },
    {
      "cell_type": "code",
      "source": [
        "pattern2=\"\"\"t # 1\n",
        "v 0 Assign\n",
        "v 1 Name#id=minmaxscalar\n",
        "v 2 Store\n",
        "v 3 Call\n",
        "v 4 Name#id=MinMaxScaler\n",
        "v 5 Load\n",
        "e 0 1 targets\n",
        "e 0 3 value\n",
        "e 1 2 ctx\n",
        "e 3 4 func\n",
        "e 4 5 ctx\n",
        "\n",
        "Support: 3\"\"\""
      ],
      "metadata": {
        "id": "jJd-PGtZ-XBR"
      },
      "execution_count": null,
      "outputs": []
    },
    {
      "cell_type": "code",
      "source": [
        "ex = '''#pattern '''\n",
        "root = ast.parse(ex)\n",
        "ast.dump(root)"
      ],
      "metadata": {
        "colab": {
          "base_uri": "https://localhost:8080/",
          "height": 35
        },
        "id": "QJ7SimU07_41",
        "outputId": "f46dfb72-d54b-4749-ec54-943ceeba156e"
      },
      "execution_count": null,
      "outputs": [
        {
          "output_type": "execute_result",
          "data": {
            "text/plain": [
              "'Module(body=[], type_ignores=[])'"
            ],
            "application/vnd.google.colaboratory.intrinsic+json": {
              "type": "string"
            }
          },
          "metadata": {},
          "execution_count": 4
        }
      ]
    },
    {
      "cell_type": "code",
      "source": [
        "#ast.Assign(targets, value, type_comment)\n",
        "#ast.Call(func, args, keywords, starargs, kwargs)\n",
        "#ast.Attribute(value, attr, ctx)\n",
        "#ast.Name(id, ctx)"
      ],
      "metadata": {
        "id": "IJz7sCAA9IA-"
      },
      "execution_count": null,
      "outputs": []
    },
    {
      "cell_type": "code",
      "source": [
        "assign_node = ast.Assign([ast.Name(\"minmaxscalar\",ast.Store())], ast.Call(ast.Name(\"MinMaxScalar\",ast.Load()),[],[]))\n",
        "root.body.insert(1, assign_node)"
      ],
      "metadata": {
        "id": "kNMGj-Ix-dBb"
      },
      "execution_count": null,
      "outputs": []
    },
    {
      "cell_type": "code",
      "source": [
        "assign_node = ast.Assign([], ast.Call(ast.Attribute(ast.Name(\"minmaxscalar\",ast.Load()),\"fit_transform\",ast.Load()),[],[]))\n",
        "root.body.insert(1, assign_node)"
      ],
      "metadata": {
        "id": "KzMIwnOJ8KYH"
      },
      "execution_count": null,
      "outputs": []
    },
    {
      "cell_type": "code",
      "source": [
        "ast.fix_missing_locations(root)\n",
        "ast.dump(root)\n",
        "astor.to_source(root)"
      ],
      "metadata": {
        "colab": {
          "base_uri": "https://localhost:8080/",
          "height": 36
        },
        "id": "CHY8eO1O8MRY",
        "outputId": "12c10115-5aa5-4739-e8c3-c2e90e95fea4"
      },
      "execution_count": null,
      "outputs": [
        {
          "output_type": "execute_result",
          "data": {
            "text/plain": [
              "'minmaxscalar = MinMaxScalar()\\nminmaxscalar.fit_transform()\\n'"
            ],
            "application/vnd.google.colaboratory.intrinsic+json": {
              "type": "string"
            }
          },
          "metadata": {},
          "execution_count": 31
        }
      ]
    },
    {
      "cell_type": "markdown",
      "source": [
        "##Combining trees"
      ],
      "metadata": {
        "id": "lL4jtHMoMisj"
      }
    },
    {
      "cell_type": "code",
      "source": [
        "ex = '''#pattern '''\n",
        "root = ast.parse(ex)\n",
        "assign_node = ast.Assign(\n",
        "    [ast.Name(\"PLACEHOLDER\",ast.Store())],\n",
        "    ast.Call(\n",
        "        ast.Attribute(\"PLACEHOLDER\",\"fit_transform\",ast.Load()),\n",
        "        [ast.Name(\"PLACEHOLDER\", ast.Load())],\n",
        "        []\n",
        "        )\n",
        "    )\n",
        "root.body.insert(4, assign_node)\n",
        "ast.fix_missing_locations(root)\n",
        "ast.dump(root)\n",
        "astor.to_source(root)"
      ],
      "metadata": {
        "colab": {
          "base_uri": "https://localhost:8080/",
          "height": 36
        },
        "id": "lhrDQu9cJpEx",
        "outputId": "9a8ea128-a7cb-4bb2-a49e-c89775439b25"
      },
      "execution_count": null,
      "outputs": [
        {
          "output_type": "execute_result",
          "data": {
            "text/plain": [
              "'PLACEHOLDER = PLACEHOLDER.fit_transform(PLACEHOLDER)\\n'"
            ],
            "application/vnd.google.colaboratory.intrinsic+json": {
              "type": "string"
            }
          },
          "metadata": {},
          "execution_count": 9
        }
      ]
    },
    {
      "cell_type": "code",
      "source": [
        "ex = '''#pattern '''\n",
        "root = ast.parse(ex)\n",
        "assign_node = ast.Assign([ast.Name(\"PLACEHOLDER\",ast.Store())], ast.Call(ast.Name(\"MinMaxScalar\",ast.Load()),[],[]))\n",
        "root.body.insert(5, assign_node)\n",
        "# assign_node = ast.Assign([ast.Name(\"PLACEHOLDER\",ast.Store())],ast.Name(\"\",None))\n",
        "# root.body.insert(6, assign_node)\n",
        "# assign_node = ast.Assign([ast.Name(\"PLACEHOLDER\",ast.Store())],ast.Name(\"\",None))\n",
        "# root.body.insert(7, assign_node)\n",
        "ast.fix_missing_locations(root)\n",
        "ast.dump(root)\n",
        "astor.to_source(root)"
      ],
      "metadata": {
        "colab": {
          "base_uri": "https://localhost:8080/",
          "height": 35
        },
        "id": "1QEBHtIeOyIP",
        "outputId": "532b1200-3f9d-4fd0-8b4f-6654cfc3574d"
      },
      "execution_count": null,
      "outputs": [
        {
          "output_type": "execute_result",
          "data": {
            "text/plain": [
              "'PLACEHOLDER = MinMaxScalar()\\n'"
            ],
            "application/vnd.google.colaboratory.intrinsic+json": {
              "type": "string"
            }
          },
          "metadata": {},
          "execution_count": 12
        }
      ]
    },
    {
      "cell_type": "code",
      "source": [
        "# ex = '''#pattern '''\n",
        "# root = ast.parse(ex)\n",
        "# assign_node = ast.Assign([], ast.Call(ast.Name(\"MinMaxScalar\",ast.Load()),[],[]))\n",
        "# root.body.insert(5, assign_node)\n",
        "# assign_node2 = ast.Assign([], ast.Call(ast.Name(\"\",None),[],[]))\n",
        "# root.body.insert(6, assign_node2)\n",
        "# ast.fix_missing_locations(root)\n",
        "# ast.dump(root)\n",
        "# astor.to_source(root)"
      ],
      "metadata": {
        "colab": {
          "base_uri": "https://localhost:8080/",
          "height": 36
        },
        "id": "9WEmwhUOP2g-",
        "outputId": "079a2908-07d3-4278-fffc-234df8055cda"
      },
      "execution_count": null,
      "outputs": [
        {
          "output_type": "execute_result",
          "data": {
            "text/plain": [
              "'MinMaxScalar()\\n()\\n'"
            ],
            "application/vnd.google.colaboratory.intrinsic+json": {
              "type": "string"
            }
          },
          "metadata": {},
          "execution_count": 60
        }
      ]
    },
    {
      "cell_type": "code",
      "source": [
        "#ast.Assign(targets, value, type_comment)\n",
        "#ast.Call(func, args, keywords, starargs, kwargs)\n",
        "#ast.Attribute(value, attr, ctx)\n",
        "#ast.Name(id, ctx)"
      ],
      "metadata": {
        "id": "7MbAznbvP-AD"
      },
      "execution_count": null,
      "outputs": []
    },
    {
      "cell_type": "code",
      "source": [
        "# ex = '''#pattern '''\n",
        "# root = ast.parse(ex)\n",
        "# assign_node = ast.Assign([], ast.Call(ast.Name(\"\",None),[],[]))\n",
        "# root.body.insert(5, assign_node)\n",
        "# assign_node2 = ast.Assign([],ast.Call(ast.Name(\"\",None),[],[]))\n",
        "# root.body.insert(6, assign_node2)\n",
        "# # assign_node3 = ast.Assign([],\"\",\"\")\n",
        "# # root.body.insert(7, assign_node3)\n",
        "# ast.fix_missing_locations(root)\n",
        "# ast.dump(root)\n",
        "# astor.to_source(root)"
      ],
      "metadata": {
        "colab": {
          "base_uri": "https://localhost:8080/",
          "height": 36
        },
        "id": "HtUML8BGRnvz",
        "outputId": "482e0ca7-3a3d-44e6-8f88-1c1987dad32c"
      },
      "execution_count": null,
      "outputs": [
        {
          "output_type": "execute_result",
          "data": {
            "text/plain": [
              "'()\\n()\\n'"
            ],
            "application/vnd.google.colaboratory.intrinsic+json": {
              "type": "string"
            }
          },
          "metadata": {},
          "execution_count": 77
        }
      ]
    },
    {
      "cell_type": "markdown",
      "source": [
        "#Drop example"
      ],
      "metadata": {
        "id": "Fw9SSftnTy1t"
      }
    },
    {
      "cell_type": "code",
      "source": [
        "common_pattern=\"\"\"t # 0\n",
        "v 0 Attribute#attr=drop\n",
        "v 1 Load\n",
        "v 2 Call\n",
        "v 3 keyword\n",
        "v 4 keyword\n",
        "v 5 Constant\n",
        "v 6 Name#id=df\n",
        "v 7 Load\n",
        "e 0 1 ctx\n",
        "e 0 2 func\n",
        "e 0 6 value\n",
        "e 2 3 keywords0\n",
        "e 2 4 keywords1\n",
        "e 4 5 arg\n",
        "e 6 7 ctx\n",
        "\n",
        "Support: 3\n",
        " \"\"\""
      ],
      "metadata": {
        "id": "lNsShUu5T-AD"
      },
      "execution_count": null,
      "outputs": []
    },
    {
      "cell_type": "code",
      "source": [
        "ex = '''#pattern '''\n",
        "root = ast.parse(ex)\n",
        "ast.dump(root)"
      ],
      "metadata": {
        "colab": {
          "base_uri": "https://localhost:8080/",
          "height": 36
        },
        "id": "EV6IHJxuYmrP",
        "outputId": "bb5b4e58-e1d0-417e-aeff-db6626cc43c1"
      },
      "execution_count": null,
      "outputs": [
        {
          "output_type": "execute_result",
          "data": {
            "text/plain": [
              "'Module(body=[], type_ignores=[])'"
            ],
            "application/vnd.google.colaboratory.intrinsic+json": {
              "type": "string"
            }
          },
          "metadata": {},
          "execution_count": 124
        }
      ]
    },
    {
      "cell_type": "code",
      "source": [
        "assign_node = ast.Call(ast.Attribute(ast.Name(\"df\",ast.Load()),\"drop\",ast.Load()),[],[ast.keyword('',None),ast.keyword(ast.Constant('PLACEHOLDER'),None)])\n",
        "root.body.insert(2, assign_node)\n",
        "ast.dump(root)"
      ],
      "metadata": {
        "colab": {
          "base_uri": "https://localhost:8080/",
          "height": 53
        },
        "id": "hfuMe3VrZUqr",
        "outputId": "a47c422f-6b06-45de-b5b9-847591a748d3"
      },
      "execution_count": null,
      "outputs": [
        {
          "output_type": "execute_result",
          "data": {
            "text/plain": [
              "\"Module(body=[Call(func=Attribute(value=Name(id='df', ctx=Load()), attr='drop', ctx=Load()), args=[], keywords=[keyword(arg='', value=None), keyword(arg=Constant(value='PLACEHOLDER'), value=None)])], type_ignores=[])\""
            ],
            "application/vnd.google.colaboratory.intrinsic+json": {
              "type": "string"
            }
          },
          "metadata": {},
          "execution_count": 125
        }
      ]
    },
    {
      "cell_type": "code",
      "source": [
        "ast.fix_missing_locations(root)\n",
        "ast.dump(root)\n",
        "astor.to_source(root)"
      ],
      "metadata": {
        "colab": {
          "base_uri": "https://localhost:8080/",
          "height": 36
        },
        "id": "QU3-y5fmYwUA",
        "outputId": "eeaa8bd6-8d8c-4422-fe95-54608ef23089"
      },
      "execution_count": null,
      "outputs": [
        {
          "output_type": "execute_result",
          "data": {
            "text/plain": [
              "\"df.drop(**, 'PLACEHOLDER'=)\\n\""
            ],
            "application/vnd.google.colaboratory.intrinsic+json": {
              "type": "string"
            }
          },
          "metadata": {},
          "execution_count": 126
        }
      ]
    },
    {
      "cell_type": "markdown",
      "source": [
        "# Linear Regression Example"
      ],
      "metadata": {
        "id": "G3TChWaJ-TKU"
      }
    },
    {
      "cell_type": "code",
      "source": [
        "common_pattern=\"\"\"t # 1\n",
        "v 0 Assign\n",
        "v 1 Call\n",
        "v 2 Attribute#attr=fit\n",
        "v 3 Load\n",
        "e 0 1 value\n",
        "e 1 2 func\n",
        "e 2 3 ctx\n",
        "\n",
        "Support: 4\n",
        " \"\"\""
      ],
      "metadata": {
        "id": "MSXmzBkm-5jB"
      },
      "execution_count": null,
      "outputs": []
    },
    {
      "cell_type": "code",
      "source": [
        "ex = '''#pattern '''\n",
        "root = ast.parse(ex)\n",
        "ast.dump(root)"
      ],
      "metadata": {
        "colab": {
          "base_uri": "https://localhost:8080/",
          "height": 36
        },
        "id": "ZPzF8SJs_e4m",
        "outputId": "3a16e9e8-863f-41f0-8e90-7d39e1aa88d2"
      },
      "execution_count": null,
      "outputs": [
        {
          "output_type": "execute_result",
          "data": {
            "text/plain": [
              "'Module(body=[], type_ignores=[])'"
            ],
            "application/vnd.google.colaboratory.intrinsic+json": {
              "type": "string"
            }
          },
          "metadata": {},
          "execution_count": 8
        }
      ]
    },
    {
      "cell_type": "code",
      "source": [
        "assign_node = ast.Assign([],ast.Call(ast.Attribute(ast.Name(\"PLACEHOLDER\",ast.Load()),\"fit\",ast.Load()),[],[]))\n",
        "root.body.insert(2, assign_node)\n",
        "ast.dump(root)"
      ],
      "metadata": {
        "colab": {
          "base_uri": "https://localhost:8080/",
          "height": 53
        },
        "id": "8rsydw0F_gVv",
        "outputId": "10062742-39be-4fe2-b3f2-aa523568c25f"
      },
      "execution_count": null,
      "outputs": [
        {
          "output_type": "execute_result",
          "data": {
            "text/plain": [
              "\"Module(body=[Assign(targets=[], value=Call(func=Attribute(value=Name(id='PLACEHOLDER', ctx=Load()), attr='fit', ctx=Load()), args=[], keywords=[]))], type_ignores=[])\""
            ],
            "application/vnd.google.colaboratory.intrinsic+json": {
              "type": "string"
            }
          },
          "metadata": {},
          "execution_count": 9
        }
      ]
    },
    {
      "cell_type": "code",
      "source": [
        "ast.fix_missing_locations(root)\n",
        "ast.dump(root)\n",
        "astor.to_source(root)"
      ],
      "metadata": {
        "colab": {
          "base_uri": "https://localhost:8080/",
          "height": 36
        },
        "id": "oH4QDx42_hbP",
        "outputId": "f0a35a03-d4ce-4a37-ba8d-a613b4264454"
      },
      "execution_count": null,
      "outputs": [
        {
          "output_type": "execute_result",
          "data": {
            "text/plain": [
              "'PLACEHOLDER.fit()\\n'"
            ],
            "application/vnd.google.colaboratory.intrinsic+json": {
              "type": "string"
            }
          },
          "metadata": {},
          "execution_count": 10
        }
      ]
    },
    {
      "cell_type": "markdown",
      "source": [
        "##combining trees"
      ],
      "metadata": {
        "id": "Vy9ZccBlfnxh"
      }
    },
    {
      "cell_type": "code",
      "source": [
        "ex = '''#pattern '''\n",
        "root = ast.parse(ex)\n",
        "\n",
        "assign_node = ast.ImportFrom(ast.alias(\"LinearRegression\",None),\"\",0)\n",
        "root.body.insert(2, assign_node)\n",
        "\n",
        "ast.fix_missing_locations(root)\n",
        "ast.dump(root)\n",
        "astor.to_source(root)"
      ],
      "metadata": {
        "colab": {
          "base_uri": "https://localhost:8080/",
          "height": 36
        },
        "id": "22qyjbFrmP0e",
        "outputId": "7002e6c3-714a-4f2a-e46e-df63fa0a902d"
      },
      "execution_count": null,
      "outputs": [
        {
          "output_type": "execute_result",
          "data": {
            "text/plain": [
              "'from LinearRegression import \\n'"
            ],
            "application/vnd.google.colaboratory.intrinsic+json": {
              "type": "string"
            }
          },
          "metadata": {},
          "execution_count": 111
        }
      ]
    },
    {
      "cell_type": "code",
      "source": [
        "ex = '''#pattern '''\n",
        "root = ast.parse(ex)\n",
        "\n",
        "assign_node = ast.Assign([],ast.Call(ast.Name(\"\",None),[ast.Name(\"y\",ast.Load())],[]))\n",
        "root.body.insert(2, assign_node)\n",
        "\n",
        "ast.fix_missing_locations(root)\n",
        "ast.dump(root)\n",
        "astor.to_source(root)"
      ],
      "metadata": {
        "colab": {
          "base_uri": "https://localhost:8080/",
          "height": 36
        },
        "id": "229oTIgGj3gc",
        "outputId": "2462828c-6724-4cd9-dcb2-adf0e0fbda7d"
      },
      "execution_count": null,
      "outputs": [
        {
          "output_type": "execute_result",
          "data": {
            "text/plain": [
              "'(y)\\n'"
            ],
            "application/vnd.google.colaboratory.intrinsic+json": {
              "type": "string"
            }
          },
          "metadata": {},
          "execution_count": 86
        }
      ]
    },
    {
      "cell_type": "code",
      "source": [
        "ex = '''#pattern '''\n",
        "root = ast.parse(ex)\n",
        "\n",
        "assign_node = ast.Assign([],\n",
        "                         ast.Call(\n",
        "                             ast.Attribute(\n",
        "                                 ast.Call(ast.Name(\"LinearRegression\",ast.Load()),[],[]),\n",
        "                                 \"fit\",\n",
        "                                 ast.Load()),\n",
        "                             [],\n",
        "                             [])\n",
        "                         )\n",
        "root.body.insert(2, assign_node)\n",
        "\n",
        "ast.fix_missing_locations(root)\n",
        "ast.dump(root)\n",
        "astor.to_source(root)"
      ],
      "metadata": {
        "colab": {
          "base_uri": "https://localhost:8080/",
          "height": 36
        },
        "id": "AWwsYlT-frlf",
        "outputId": "da0f9d19-a049-4f8f-d845-0f2c4b526f91"
      },
      "execution_count": null,
      "outputs": [
        {
          "output_type": "execute_result",
          "data": {
            "text/plain": [
              "'LinearRegression().fit()\\n'"
            ],
            "application/vnd.google.colaboratory.intrinsic+json": {
              "type": "string"
            }
          },
          "metadata": {},
          "execution_count": 81
        }
      ]
    },
    {
      "cell_type": "markdown",
      "source": [
        "##New assumption - no name id"
      ],
      "metadata": {
        "id": "m0lyeHmsqUHI"
      }
    },
    {
      "cell_type": "code",
      "source": [
        "# t # 0\n",
        "# v 0 Assign\n",
        "# v 1 Name\n",
        "# v 2 Store\n",
        "# v 3 Call\n",
        "# v 4 Name\n",
        "# v 5 Load\n",
        "# v 6 Name\n",
        "# v 7 Load\n",
        "# v 8 Attribute#attr=fit\n",
        "# v 9 Load\n",
        "# v 10 Call\n",
        "# v 11 Name#id=LinearRegression\n",
        "# v 12 Load\n",
        "# e 0 1 targets\n",
        "# e 0 3 value\n",
        "# e 1 2 ctx\n",
        "# e 3 4 args0\n",
        "# e 3 6 args1\n",
        "# e 3 8 func\n",
        "# e 4 5 ctx\n",
        "# e 6 7 ctx\n",
        "# e 8 9 ctx\n",
        "# e 8 10 value\n",
        "# e 10 11 func\n",
        "# e 11 12 ctx"
      ],
      "metadata": {
        "id": "OH_CR-2KqYAC"
      },
      "execution_count": null,
      "outputs": []
    },
    {
      "cell_type": "code",
      "source": [
        "#ast.Assign(targets, value, type_comment)\n",
        "#ast.Call(func, args, keywords, starargs, kwargs)\n",
        "#ast.Attribute(value, attr, ctx)\n",
        "#ast.Name(id, ctx)\n",
        "#ast.keyword(arg, value)\n",
        "#ast.Constant(value)\n",
        "#ast.ImportFrom(module, names, level)\n",
        "#ast.alias(name, asname)\n"
      ],
      "metadata": {
        "id": "TsTFrY5qYqEU"
      },
      "execution_count": null,
      "outputs": []
    },
    {
      "cell_type": "code",
      "source": [
        "ex = '''#pattern '''\n",
        "root = ast.parse(ex)\n",
        "\n",
        "assign_node = ast.Assign([ast.Name(\"PLACEHOLDER\",ast.Store())],\n",
        "                         ast.Call(ast.Attribute(ast.Call(ast.Name(\"LinearRegression\",ast.Load()),[],[]), \"fit\", ast.Load()),[ast.Name(\"PLACEHOLDER\",ast.Load()),ast.Name(\"PLACEHOLDER\",ast.Load())],[])\n",
        "                         )\n",
        "root.body.insert(2, assign_node)\n",
        "\n",
        "ast.fix_missing_locations(root)\n",
        "ast.dump(root)\n",
        "astor.to_source(root)"
      ],
      "metadata": {
        "colab": {
          "base_uri": "https://localhost:8080/",
          "height": 36
        },
        "id": "9gnmhzCoqbo1",
        "outputId": "fd0e4e9f-2147-42b5-b941-8e466880e356"
      },
      "execution_count": null,
      "outputs": [
        {
          "output_type": "execute_result",
          "data": {
            "text/plain": [
              "'PLACEHOLDER = LinearRegression().fit(PLACEHOLDER, PLACEHOLDER)\\n'"
            ],
            "application/vnd.google.colaboratory.intrinsic+json": {
              "type": "string"
            }
          },
          "metadata": {},
          "execution_count": 115
        }
      ]
    }
  ]
}