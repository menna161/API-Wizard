{
  "cells": [
    {
      "cell_type": "markdown",
      "metadata": {
        "colab_type": "text",
        "id": "view-in-github"
      },
      "source": [
        "<a href=\"https://colab.research.google.com/github/menna161/Mining-API-Usage-Patterns/blob/main/FromCodetoPattern.ipynb\" target=\"_parent\"><img src=\"https://colab.research.google.com/assets/colab-badge.svg\" alt=\"Open In Colab\"/></a>"
      ]
    },
    {
      "cell_type": "code",
      "execution_count": null,
      "metadata": {
        "colab": {
          "base_uri": "https://localhost:8080/"
        },
        "id": "my-_RfkE0Kt3",
        "outputId": "9a880ef9-d5b6-4a0d-8eea-a0075016a9ed"
      },
      "outputs": [
        {
          "ename": "",
          "evalue": "",
          "output_type": "error",
          "traceback": [
            "\u001b[1;31mRunning cells with 'Python 3.8.3 32-bit' requires ipykernel package.\n",
            "\u001b[1;31mRun the following command to install 'ipykernel' into the Python environment. \n",
            "\u001b[1;31mCommand: 'c:/Users/menna/AppData/Local/Programs/Python/Python38-32/python.exe -m pip install ipykernel -U --user --force-reinstall'"
          ]
        }
      ],
      "source": [
        "!pip install astor"
      ]
    },
    {
      "cell_type": "code",
      "execution_count": null,
      "metadata": {
        "id": "PLu80GgM0CZR"
      },
      "outputs": [],
      "source": [
        "import ast\n",
        "import astor"
      ]
    },
    {
      "cell_type": "markdown",
      "metadata": {
        "id": "LmTDOg2Q0SS1"
      },
      "source": [
        "# Input Examples"
      ]
    },
    {
      "cell_type": "code",
      "execution_count": null,
      "metadata": {
        "id": "Vv3UAd2Q0RVF"
      },
      "outputs": [],
      "source": [
        "ex1 = '''\n",
        "x = txt.split()\n",
        "print(x)\n",
        "'''\n",
        "\n",
        "\n",
        "ex2 ='''\n",
        "for line in content.split('.'):\n",
        "    print(line)\n",
        "'''\n",
        "\n",
        "ex3 = '''\n",
        "words = dir.split('/')\n",
        "return words[0]\n",
        "'''\n",
        "\n",
        "ex4 = '''\n",
        "lines = k.split(\".\")\n",
        "first = lines.pop()\n",
        "'''\n",
        "\n",
        "ex5 = '''\n",
        "parts  = k.split('.')\n",
        "line = lines.pop()\n",
        "'''\n",
        "\n",
        "ex6 = '''\n",
        "parts = package_name.split('.')\n",
        "name = parts.pop()\n",
        "'''"
      ]
    },
    {
      "cell_type": "markdown",
      "metadata": {
        "id": "Uo9cpt9Z0ZSo"
      },
      "source": [
        "# Convert Code to AST"
      ]
    },
    {
      "cell_type": "code",
      "execution_count": null,
      "metadata": {
        "colab": {
          "base_uri": "https://localhost:8080/"
        },
        "id": "9hBYkLc80hf2",
        "outputId": "e8cfc55b-ccb0-497c-b941-4c80c9f28c92"
      },
      "outputs": [],
      "source": [
        "tree1 = ast.parse(ex1)\n",
        "tree2 = ast.parse(ex2)\n",
        "tree3 = ast.parse(ex3)\n",
        "tree4 = ast.parse(ex4)\n",
        "tree5 = ast.parse(ex5)\n",
        "tree6 = ast.parse(ex6)\n",
        "\n",
        "\n",
        "dumpp1 = ast.dump(tree1)\n",
        "dumpp2 = ast.dump(tree2)\n",
        "dumpp3 = ast.dump(tree3)\n",
        "dumpp4 = ast.dump(tree4)\n",
        "dumpp5 = ast.dump(tree5)\n",
        "dumpp6 = ast.dump(tree6)\n",
        "\n",
        "\n",
        "print(\"ex1\", dumpp1)\n",
        "print(\"ex2\", dumpp2)\n",
        "print(\"ex3\", dumpp3)\n",
        "print(\"ex4\", dumpp4)\n",
        "print(\"ex5\", dumpp5)\n",
        "print(\"ex6\", dumpp6)\n"
      ]
    },
    {
      "cell_type": "markdown",
      "metadata": {
        "id": "dLZK7LIG0qYv"
      },
      "source": [
        "# AST To Gspan Format"
      ]
    },
    {
      "cell_type": "code",
      "execution_count": null,
      "metadata": {
        "id": "wjfpslz80wG4"
      },
      "outputs": [],
      "source": [
        "code_snippets = [tree1, tree2, tree3, tree4, tree5, tree6]\n",
        "\n",
        "file = open(\"input.txt\", \"w\")\n",
        "i=0\n",
        "\n",
        "\n",
        "# print(code_snippets)\n",
        "for snippet_tree in code_snippets:\n",
        "  file_write= []\n",
        "  v_n = 0;\n",
        "  parent_n = -1;\n",
        "  file.write(f't # {i}\\n')\n",
        "  file.write(f'v 0 Module\\n')\n",
        "  i+=1\n",
        "  # print(\"tree source code\")\n",
        "  # print(astor.to_source(snippet_tree))\n",
        "\n",
        "\n",
        "  for node in ast.walk(snippet_tree):\n",
        "      n = str(node).split()[0][6:]\n",
        "      parent_n += 1\n",
        "      children = []\n",
        "      e_n = 0\n",
        "      # print(\"Node\", parent_n, n)\n",
        "\n",
        "      for x in ast.iter_child_nodes(node): \n",
        "          child = type(x).__name__\n",
        "          # print(\"childdd\", child)\n",
        "          name = x._fields\n",
        "          # print(\"nameee\", name)\n",
        "          for item,val in ast.iter_fields(x):\n",
        "            if(item in (\"name\",\"id\",\"attr\")):\n",
        "              child = str(child)+ \"#\"+item+\"=\"+val\n",
        "          v_n +=1\n",
        "          # print(f'v {v_n} {child}\\n')\n",
        "          # print(\"---Children\",child )\n",
        "          # print(\"list children \",list(ast.iter_child_nodes(node)))\n",
        "          file_write.append('v '+str(v_n)+' '+str(child)+'\\n')\n",
        "          # print(file_write)\n",
        "          children.append([child,v_n])\n",
        "\n",
        "\n",
        "\n",
        "      # print(\"children \", children)\n",
        "      # print(\"list \",list(ast.iter_fields(node)))\n",
        "      edges_list = list(ast.iter_fields(node))\n",
        "\n",
        "      for edge in list(ast.iter_fields(node)):\n",
        "      #   print(\"edge \", edge)\n",
        "        \n",
        "        if not(edge[0] in (\"name\",\"id\",\"attr\",\"str\")) and len(children) > 0:\n",
        "          # print(\"edge[0] \", edge[0])\n",
        "          # print(\"edge[1] \", edge[1])\n",
        "\n",
        "          if isinstance(edge[1], list):\n",
        "            if(len(edge[1]) == 1 ):\n",
        "                # print(f'e {parent_n} {children[e_n][1]} {edge[0]}\\n')\n",
        "                # print(f'e {parent_n} {children[e_n][1]} {edge[0]}\\n')\n",
        "                file_write.append('e '+str(parent_n)+' '+str(children[e_n][1])+' '+str(edge[0])+'\\n')\n",
        "                e_n+=1\n",
        "            else:\n",
        "              edge_name_n = 0;\n",
        "              for node in edge[1]:\n",
        "                # print(\"node \",node)\n",
        "                # print(f'e {parent_n} {children[e_n][1]} {edge[0]+str(edge_name_n)}\\n')\n",
        "                # file.write(f'e {parent_n} {children[e_n][1]} {edge[0]+str(edge_name_n)}\\n')\n",
        "                file_write.append('e '+str(parent_n)+' '+str(children[e_n][1])+' '+str(edge[0]+str(edge_name_n))+'\\n')\n",
        "                e_n+=1\n",
        "                edge_name_n+=1\n",
        "          else:\n",
        "            # print(f'e {parent_n} {children[e_n][1]} {edge[0]}\\n')\n",
        "            # file.write(f'e {parent_n} {children[e_n][1]} {edge[0]}\\n')\n",
        "            file_write.append('e '+str(parent_n)+' '+str(children[e_n][1])+' '+str(edge[0])+'\\n')\n",
        "            # print(\"e_n \", e_n)\n",
        "            e_n+=1\n",
        "\n",
        "  # print(\"not sorted\")\n",
        "  # print(file_write)\n",
        "  file_write.sort()\n",
        "  # print(\"sorted\")\n",
        "  # print(file_write)\n",
        "  for y in reversed(file_write):\n",
        "    file.write(y)\n",
        "        \n",
        "\n",
        "file.write(\"t # -1\\n\")\n",
        "file.close()\n",
        "\n"
      ]
    },
    {
      "cell_type": "markdown",
      "metadata": {
        "id": "MiDsoZ-Z-5a3"
      },
      "source": [
        "# Minning Common Patter with Gspan"
      ]
    },
    {
      "cell_type": "code",
      "execution_count": null,
      "metadata": {
        "colab": {
          "base_uri": "https://localhost:8080/"
        },
        "id": "12mLqesC_ECd",
        "outputId": "07da3bf1-fd05-4f47-b788-06672ddfc762"
      },
      "outputs": [],
      "source": [
        "!pip install gspan-mining"
      ]
    },
    {
      "cell_type": "code",
      "execution_count": null,
      "metadata": {
        "colab": {
          "base_uri": "https://localhost:8080/"
        },
        "id": "EHl_J-tF_o95",
        "outputId": "55a0fdc1-1da6-4ff9-dbdf-afc6e3bc3c35"
      },
      "outputs": [],
      "source": [
        "!python -m gspan_mining -s 3 ./input.txt #max vertices , support 50%"
      ]
    },
    {
      "cell_type": "code",
      "execution_count": null,
      "metadata": {
        "id": "P0Dn_D10Aac4"
      },
      "outputs": [],
      "source": [
        "# t # 27\n",
        "# v 0 Assign\n",
        "# v 1 Module\n",
        "# v 2 Assign\n",
        "# v 3 Call\n",
        "# v 4 Attribute#attr=pop\n",
        "# v 5 Load\n",
        "# v 6 Call\n",
        "# v 7 Str\n",
        "# v 8 Attribute#attr=split\n",
        "# v 9 Load\n",
        "# e 0 1 body0\n",
        "# e 0 6 value\n",
        "# e 1 2 body1\n",
        "# e 2 3 value\n",
        "# e 3 4 func\n",
        "# e 4 5 ctx\n",
        "# e 6 7 args\n",
        "# e 6 8 func\n",
        "# e 8 9 ctx\n",
        "\n",
        "# Support: 3"
      ]
    },
    {
      "cell_type": "code",
      "execution_count": null,
      "metadata": {
        "id": "cS7-qmbM_4-K"
      },
      "outputs": [],
      "source": [
        "from gspan_mining.config import parser\n",
        "from gspan_mining.main import main"
      ]
    },
    {
      "cell_type": "code",
      "execution_count": null,
      "metadata": {
        "colab": {
          "base_uri": "https://localhost:8080/"
        },
        "id": "UjdlIB_x_5Vc",
        "outputId": "5c1df2a1-f43f-4dc8-8957-9e9072e1408f"
      },
      "outputs": [],
      "source": [
        "%pylab inline"
      ]
    },
    {
      "cell_type": "code",
      "execution_count": null,
      "metadata": {
        "colab": {
          "base_uri": "https://localhost:8080/"
        },
        "id": "7iIb4TXz_7rw",
        "outputId": "b6f3147c-6de4-4a6d-be27-9a02eb7e9b40"
      },
      "outputs": [],
      "source": [
        "!python -m gspan_mining -h"
      ]
    },
    {
      "cell_type": "code",
      "execution_count": null,
      "metadata": {
        "id": "m_BnZ2dh_-WQ"
      },
      "outputs": [],
      "source": [
        "args_str = '-s 3  -d False -l 3 -p True  -w True input.txt'\n",
        "#args_str = '-s 3 -d True -l 5 -p True -w True final.txt'\n",
        "FLAGS, _ = parser.parse_known_args(args=args_str.split())"
      ]
    },
    {
      "cell_type": "code",
      "execution_count": null,
      "metadata": {
        "colab": {
          "base_uri": "https://localhost:8080/",
          "height": 1000
        },
        "id": "feS2Cd9WAD4G",
        "outputId": "2212c4fc-a612-418b-ff0a-7ba58486ba4e"
      },
      "outputs": [],
      "source": [
        "gs = main(FLAGS)"
      ]
    }
  ],
  "metadata": {
    "colab": {
      "authorship_tag": "ABX9TyOQzIe7SQTzY9AMDcqT67oT",
      "include_colab_link": true,
      "provenance": []
    },
    "kernelspec": {
      "display_name": "Python 3.8.3 32-bit",
      "language": "python",
      "name": "python3"
    },
    "language_info": {
      "name": "python",
      "version": "3.8.3"
    },
    "vscode": {
      "interpreter": {
        "hash": "a10c42ec0cb01f3ae84da98695df852d02712c4f63b47af8b2a39bb2c01da9fb"
      }
    }
  },
  "nbformat": 4,
  "nbformat_minor": 0
}
