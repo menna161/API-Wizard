{
  "cells": [
    {
      "cell_type": "code",
      "execution_count": null,
      "metadata": {
        "colab": {
          "base_uri": "https://localhost:8080/"
        },
        "id": "xI7WrQzzel1D",
        "outputId": "af283920-e678-475e-baaf-67a686410526"
      },
      "outputs": [
        {
          "name": "stdout",
          "output_type": "stream",
          "text": [
            "Drive not mounted, so nothing to flush and unmount.\n",
            "Mounted at /content/drive\n"
          ]
        }
      ],
      "source": [
        "import ast\n",
        "import astunparse as astu\n",
        "\n",
        "from google.colab import drive\n",
        "drive.flush_and_unmount()\n",
        "drive.mount('/content/drive',force_remount=True)"
      ]
    },
    {
      "cell_type": "code",
      "execution_count": null,
      "metadata": {
        "id": "SjAfDxObBHGj"
      },
      "outputs": [],
      "source": [
        "def getApiFiles(filename,apis):\n",
        "  r = open(filename,'r')\n",
        "  text = r.read()\n",
        "\n",
        "  for api in apis:\n",
        "    if \"(\" in api:\n",
        "      apifile=api[:-1]\n",
        "    else: \n",
        "      apifile=api\n",
        "    if api in text:\n",
        "      fname = filename.split('/')[-1]\n",
        "      dest = '/content/drive/MyDrive/Thesis2/apis/'+apifile+'/'+fname\n",
        "      with open(dest,\"w\") as f:\n",
        "        print(dest)\n",
        "        f.write(text)\n",
        "        f.close()"
      ]
    },
    {
      "cell_type": "code",
      "execution_count": null,
      "metadata": {
        "id": "e8CnNi3legqy"
      },
      "outputs": [],
      "source": [
        "def getApiFilesAST(filename,apis):\n",
        "  r = open(filename,'r')\n",
        "  text = r.read()\n",
        "  t = ast.parse(text)\n",
        "\n",
        "  for node in ast.walk(t):\n",
        "    for api in apis:\n",
        "      if \"(\" in api:\n",
        "        apifile=api[:-1]\n",
        "      else: \n",
        "        apifile=api\n",
        "      if isinstance(node,ast.FunctionDef) or (isinstance(node,ast.If) and \"if (__name__ == '__main__')\" in astu.unparse(node)):\n",
        "        if api in astu.unparse(node):\n",
        "          fname = filename.split('/')[-1]\n",
        "          dest = '/content/drive/MyDrive/Thesis2/apis/'+apifile+'/'+fname\n",
        "          with open(dest,\"w\") as f:\n",
        "            print(dest)\n",
        "            f.write(text)\n",
        "            f.close()"
      ]
    },
    {
      "cell_type": "code",
      "execution_count": null,
      "metadata": {
        "colab": {
          "base_uri": "https://localhost:8080/"
        },
        "id": "qKo3_nDIRTFk",
        "outputId": "9c2ed86f-67cd-45fe-ec15-16f0474e6119"
      },
      "outputs": [
        {
          "name": "stdout",
          "output_type": "stream",
          "text": [
            "1\n",
            "1\n",
            "1\n",
            "12592\n"
          ]
        }
      ],
      "source": [
        "# loop to overcome drive mounting issues associated with large folders\n",
        "x=[]\n",
        "while len(x)<=1:\n",
        "  x = !ls drive/MyDrive/Thesis2/snippets/\n",
        "  print(len(x))"
      ]
    },
    {
      "cell_type": "code",
      "execution_count": null,
      "metadata": {
        "id": "gSL8gDMMarwU"
      },
      "outputs": [],
      "source": [
        "files=[]\n",
        "for i in x:\n",
        "  y= i.split('\\t')\n",
        "  for j in y:\n",
        "    z = j.split('  ')\n",
        "    for k in z:\n",
        "      if \".py\" in k:\n",
        "        files.append(k.strip())\n",
        "files"
      ]
    },
    {
      "cell_type": "code",
      "execution_count": null,
      "metadata": {
        "id": "J0nMFnW-bfWj"
      },
      "outputs": [],
      "source": [
        "len(files)"
      ]
    },
    {
      "cell_type": "code",
      "execution_count": null,
      "metadata": {
        "id": "HdEVWHlUmcxP"
      },
      "outputs": [],
      "source": [
        "apis = [\"datetime\",\"np.linspace\",\"np.arange\",\"np.polyfit\",\"np.argmax\",\"pd.read_pickle\",\"pd.read_clipboard\",\n",
        "        \"pd.cut\",\"pd.qcut\",\"pd.unique\",\"nunique\",\"groupby\",\"value_counts\",\n",
        "        \"cbrt\",\"exp10\",\"comb(\",\"perm(\",\n",
        "        \"Model(\",\"Model.get_layer\",\"Dense(\",\"Sequential.add\", \"base.clone\",\n",
        "        \"plt.plot\",\"plt.subplots\",\"plt.figure\",\"plt.show\",\"plt.text\",\n",
        "        \"graph_from_dot_data\",\"train_test_split\",\"LinearRegression\",\"LogisticRegression\",\n",
        "        \"randint\",\"drop_duplicates\",\"drop(\",\n",
        "        \"SelectKBest\",\"SparseCategoricalCrossentropy\",\"BinaryCrossentropy\",\"SGDClassifier\",\n",
        "        \"tf.pad\",\"tf.concat\",\"tf.random.normal\",\"tf.random.uniform\",\"np.identity\",\n",
        "        \"sns.load_dataset\",\"sns.lineplot\",\"sns.PairGrid\",\"sns.scatterplot\",\"sns.barplot\",\"sns.boxplot\",\n",
        "        \"cv2.imread\",\"cv2.threshold\",\"cv2.findContours\",\"cv2.contourArea\",\"cv2.imshow\",\"cv2.setMouseCallback\",\n",
        "        \"BeautifulSoup(\",\"prettify\",\"find_all\",\"soup.find(\",\"soup.get_text(\",\n",
        "        \"torch.randn\",\"torch.randperm\",\"nn.MSELoss\",\"optim.SGD\",\"nn.Linear\",\"nn.Sequential\",\n",
        "        \"fit_transform\",\"classification_report\",\"confusion_matrix\",\"SVC\",\n",
        "        \"Conv2D\", \"MaxPooling2D\",\"special.perm\",\"MinMaxScaler\",\n",
        "        \"BeautifulSoup(\",\"soup.get_text(\",\"special.perm\"]\n",
        "for i in apis:\n",
        "  if \"(\" in i:\n",
        "    i=i[:-1]\n",
        "  d = \"drive/MyDrive/Thesis2/apis/\"+i\n",
        "  !mkdir $d"
      ]
    },
    {
      "cell_type": "code",
      "execution_count": null,
      "metadata": {
        "colab": {
          "background_save": true
        },
        "id": "Be-1HCpIenOo"
      },
      "outputs": [],
      "source": [
        "for i in range(50367,len(files)):\n",
        "  print(\"file\",i)\n",
        "  try:\n",
        "    getApiFilesAST(\"drive/MyDrive/Thesis2/snippets/\"+files[i],apis)\n",
        "  except (SyntaxError,FileNotFoundError) as error:\n",
        "    print(files[i],\": \",error)\n",
        "    getApiFiles(\"drive/MyDrive/Thesis2/snippets/\"+files[i],apis)"
      ]
    }
  ],
  "metadata": {
    "colab": {
      "provenance": []
    },
    "kernelspec": {
      "display_name": "Python 3",
      "name": "python3"
    },
    "language_info": {
      "name": "python"
    }
  },
  "nbformat": 4,
  "nbformat_minor": 0
}