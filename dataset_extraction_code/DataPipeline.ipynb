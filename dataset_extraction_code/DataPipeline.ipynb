{
  "cells": [
    {
      "cell_type": "code",
      "source": [
        "import ast\n",
        "import astunparse as astu\n",
        "import glob\n",
        "import pandas as pd\n",
        "\n",
        "from google.colab import drive\n",
        "drive.mount('/content/drive',force_remount=True)"
      ],
      "metadata": {
        "id": "Z2ACRdpHL7UM"
      },
      "execution_count": null,
      "outputs": []
    },
    {
      "cell_type": "code",
      "source": [
        "def clone(repo,dest='drive/MyDrive/Thesis2/repos/'):\n",
        "  f = 'https://github.com/'+repo+ '.git'\n",
        "  p = dest + repo.split('/')[-1].strip()\n",
        "  !GIT_TERMINAL_PROMPT=0 git clone --depth 1 $f $p"
      ],
      "metadata": {
        "id": "mH0DbWvPL9_c"
      },
      "execution_count": null,
      "outputs": []
    },
    {
      "cell_type": "code",
      "execution_count": null,
      "metadata": {
        "id": "qRMI7BdP1KZL"
      },
      "outputs": [],
      "source": [
        "def extractMethodsAST(filename,outputdir=\"drive/MyDrive/Thesis2/snippets/\",count = 0):\n",
        "  try: \n",
        "    r = open(filename,'r')\n",
        "    t = ast.parse(r.read())\n",
        "    imports = []\n",
        "    methods = []\n",
        "    for node in ast.walk(t):\n",
        "      if isinstance(node,ast.ImportFrom) or isinstance(node,ast.Import):\n",
        "        imports.append(astu.unparse(node).strip())\n",
        "      if isinstance(node,ast.FunctionDef):\n",
        "        methods.append(astu.unparse(node))\n",
        "      if isinstance(node,ast.If) and \"if (__name__ == '__main__')\" in astu.unparse(node):\n",
        "        methods.append(astu.unparse(node))\n",
        "    if len(methods) == 0:\n",
        "      snippetfile = f\"{outputdir}snippet{str(count)}.py\"\n",
        "      print(snippetfile)\n",
        "      o = open(snippetfile,\"w\")\n",
        "      o.write(astu.unparse(t))\n",
        "      o.close()\n",
        "\n",
        "    imp = '\\n'.join(imports) + '\\n'\n",
        "    for i in methods:\n",
        "      count+=1\n",
        "      snippetfile = f\"{outputdir}snippet{str(count)}.py\"\n",
        "      print(snippetfile)\n",
        "      o = open(snippetfile,\"w\")\n",
        "      o.write(imp+i)\n",
        "      o.close()\n",
        "\n",
        "    return count\n",
        "  except (SyntaxError,UnicodeDecodeError,IsADirectoryError,AttributeError,FileNotFoundError) as error: \n",
        "    return count"
      ]
    },
    {
      "cell_type": "code",
      "source": [
        "def getSnippets(dir,snippets):\n",
        "  print(str(i) + '. ' + dir)\n",
        "  files = []\n",
        "  s = '/*.py'\n",
        "  sf = '/'\n",
        "  c= '/*'\n",
        "  count = 0\n",
        "  while True:\n",
        "    f = glob.glob(dir+s)\n",
        "    f1 = glob.glob(dir+sf)\n",
        "    if f==[] and f1==[] and count != 0:\n",
        "      break\n",
        "    for file in f:\n",
        "      files.append(file)\n",
        "      snippets = extractMethodsAST(file,\"drive/MyDrive/Thesis2/snippets/\",snippets)\n",
        "    sf=c+sf\n",
        "    s=c+s\n",
        "    count+=1\n",
        "  return snippets"
      ],
      "metadata": {
        "id": "sf8jtiL2MAWs"
      },
      "execution_count": null,
      "outputs": []
    },
    {
      "cell_type": "code",
      "execution_count": null,
      "metadata": {
        "colab": {
          "base_uri": "https://localhost:8080/"
        },
        "id": "-JI__aur5TyG",
        "outputId": "1cf21587-305f-4213-fd3b-d1b41aa7e6b2"
      },
      "outputs": [
        {
          "name": "stdout",
          "output_type": "stream",
          "text": [
            "Mounted at /content/drive\n",
            "(64009, 26)\n"
          ]
        }
      ],
      "source": [
        "df = pd.read_csv('drive/MyDrive/Thesis2/marked_dataset.csv',index_col=0)\n",
        "print(df.shape)"
      ]
    },
    {
      "cell_type": "code",
      "execution_count": null,
      "metadata": {
        "id": "y_qWkxp248KO"
      },
      "outputs": [],
      "source": [
        "# for each repo in the dataframe:\n",
        "  # clone repo\n",
        "  # extract files\n",
        "    # create snippets from each file\n",
        "  # delete repo\n",
        "  # mark completed\n",
        "  # save updated dataframe\n",
        "\n",
        "dir = \"drive/MyDrive/Thesis2/\"\n",
        "snippets = 0\n",
        "for i in range(df.shape[0]):\n",
        "  repo = df.iloc[i][0]\n",
        "  \n",
        "  if df.iloc[i]['complete'] == False:\n",
        "    clone(repo)\n",
        "    repodir = f\"{dir}repos/{repo.split('/')[-1]}\"\n",
        "    try:\n",
        "      snippets = getSnippets(repodir,snippets)\n",
        "    except RecursionError as error:\n",
        "      print(error)\n",
        "    !rm -rf $repodir\n",
        "    df.at[i,'complete'] = True\n",
        "    df.to_csv(dir+'marked_dataset.csv')"
      ]
    }
  ],
  "metadata": {
    "colab": {
      "provenance": []
    },
    "kernelspec": {
      "display_name": "Python 3",
      "name": "python3"
    },
    "language_info": {
      "name": "python"
    }
  },
  "nbformat": 4,
  "nbformat_minor": 0
}