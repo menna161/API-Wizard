{
 "cells": [
  {
   "cell_type": "code",
   "execution_count": 13,
   "metadata": {},
   "outputs": [],
   "source": [
    "import ast\n",
    "import astunparse as astu"
   ]
  },
  {
   "cell_type": "code",
   "execution_count": 20,
   "metadata": {
    "id": "Y4WUS52f_Xzz"
   },
   "outputs": [],
   "source": [
    "def extractMethodsAST(filename,outputdir=\"/\",count = 0):\n",
    "  r = open(filename,'r')\n",
    "  try: \n",
    "    t = ast.parse(r.read())\n",
    "    imports = []\n",
    "    methods = []\n",
    "    for node in ast.walk(t):\n",
    "      if isinstance(node,ast.ImportFrom) or isinstance(node,ast.Import):\n",
    "        imports.append(astu.unparse(node).strip())\n",
    "      if isinstance(node,ast.FunctionDef):\n",
    "        methods.append(astu.unparse(node))\n",
    "      if isinstance(node,ast.If) and \"if (__name__ == '__main__')\" in astu.unparse(node):\n",
    "        methods.append(astu.unparse(node))\n",
    "\n",
    "    if len(methods) == 0:\n",
    "      o = open(outputdir+\"snippet\"+str(count)+\".py\",\"w\")\n",
    "      o.write(astu.unparse(t))\n",
    "      o.close()\n",
    "\n",
    "    imp = '\\n'.join(imports) + '\\n'\n",
    "    for i in methods:\n",
    "      count+=1\n",
    "      o = open(outputdir+\"snippet\"+str(count)+\".py\",\"w\")\n",
    "      o.write(imp+i)\n",
    "      o.close()\n",
    "\n",
    "    return count\n",
    "  except SyntaxError: \n",
    "    return count"
   ]
  },
  {
   "cell_type": "code",
   "execution_count": 21,
   "metadata": {},
   "outputs": [
    {
     "data": {
      "text/plain": [
       "33399"
      ]
     },
     "execution_count": 21,
     "metadata": {},
     "output_type": "execute_result"
    }
   ],
   "source": [
    "files = !ls pyfiles\n",
    "len(files)"
   ]
  },
  {
   "cell_type": "code",
   "execution_count": 22,
   "metadata": {
    "id": "On6U07Lt-VJ1"
   },
   "outputs": [
    {
     "name": "stdout",
     "output_type": "stream",
     "text": [
      "0\n",
      "0\n",
      "0\n",
      "4\n",
      "5\n",
      "21\n",
      "26\n",
      "26\n",
      "26\n",
      "26\n",
      "28\n",
      "31\n",
      "32\n",
      "39\n",
      "41\n",
      "45\n",
      "45\n",
      "45\n",
      "46\n",
      "49\n",
      "56\n",
      "60\n",
      "68\n",
      "68\n",
      "73\n",
      "78\n",
      "86\n",
      "97\n",
      "108\n",
      "148\n",
      "151\n",
      "158\n",
      "160\n"
     ]
    },
    {
     "ename": "UnicodeDecodeError",
     "evalue": "'utf-8' codec can't decode byte 0xb1 in position 195: invalid start byte",
     "output_type": "error",
     "traceback": [
      "\u001b[0;31m---------------------------------------------------------------------------\u001b[0m",
      "\u001b[0;31mUnicodeDecodeError\u001b[0m                        Traceback (most recent call last)",
      "Cell \u001b[0;32mIn[22], line 5\u001b[0m\n\u001b[1;32m      3\u001b[0m \u001b[38;5;28;01mfor\u001b[39;00m file \u001b[38;5;129;01min\u001b[39;00m files:\n\u001b[1;32m      4\u001b[0m     \u001b[38;5;28mprint\u001b[39m(count)\n\u001b[0;32m----> 5\u001b[0m     count \u001b[38;5;241m=\u001b[39m \u001b[43mextractMethodsAST\u001b[49m\u001b[43m(\u001b[49m\u001b[38;5;124;43m\"\u001b[39;49m\u001b[38;5;124;43mpyfiles/\u001b[39;49m\u001b[38;5;124;43m\"\u001b[39;49m\u001b[38;5;241;43m+\u001b[39;49m\u001b[43mfile\u001b[49m\u001b[43m,\u001b[49m\u001b[43moutdir\u001b[49m\u001b[43m,\u001b[49m\u001b[43mcount\u001b[49m\u001b[43m)\u001b[49m\n",
      "Cell \u001b[0;32mIn[20], line 4\u001b[0m, in \u001b[0;36mextractMethodsAST\u001b[0;34m(filename, outputdir, count)\u001b[0m\n\u001b[1;32m      2\u001b[0m r \u001b[38;5;241m=\u001b[39m \u001b[38;5;28mopen\u001b[39m(filename,\u001b[38;5;124m'\u001b[39m\u001b[38;5;124mr\u001b[39m\u001b[38;5;124m'\u001b[39m)\n\u001b[1;32m      3\u001b[0m \u001b[38;5;28;01mtry\u001b[39;00m: \n\u001b[0;32m----> 4\u001b[0m   t \u001b[38;5;241m=\u001b[39m ast\u001b[38;5;241m.\u001b[39mparse(\u001b[43mr\u001b[49m\u001b[38;5;241;43m.\u001b[39;49m\u001b[43mread\u001b[49m\u001b[43m(\u001b[49m\u001b[43m)\u001b[49m)\n\u001b[1;32m      5\u001b[0m   imports \u001b[38;5;241m=\u001b[39m []\n\u001b[1;32m      6\u001b[0m   methods \u001b[38;5;241m=\u001b[39m []\n",
      "File \u001b[0;32m/usr/lib/python3.8/codecs.py:322\u001b[0m, in \u001b[0;36mBufferedIncrementalDecoder.decode\u001b[0;34m(self, input, final)\u001b[0m\n\u001b[1;32m    319\u001b[0m \u001b[38;5;28;01mdef\u001b[39;00m \u001b[38;5;21mdecode\u001b[39m(\u001b[38;5;28mself\u001b[39m, \u001b[38;5;28minput\u001b[39m, final\u001b[38;5;241m=\u001b[39m\u001b[38;5;28;01mFalse\u001b[39;00m):\n\u001b[1;32m    320\u001b[0m     \u001b[38;5;66;03m# decode input (taking the buffer into account)\u001b[39;00m\n\u001b[1;32m    321\u001b[0m     data \u001b[38;5;241m=\u001b[39m \u001b[38;5;28mself\u001b[39m\u001b[38;5;241m.\u001b[39mbuffer \u001b[38;5;241m+\u001b[39m \u001b[38;5;28minput\u001b[39m\n\u001b[0;32m--> 322\u001b[0m     (result, consumed) \u001b[38;5;241m=\u001b[39m \u001b[38;5;28;43mself\u001b[39;49m\u001b[38;5;241;43m.\u001b[39;49m\u001b[43m_buffer_decode\u001b[49m\u001b[43m(\u001b[49m\u001b[43mdata\u001b[49m\u001b[43m,\u001b[49m\u001b[43m \u001b[49m\u001b[38;5;28;43mself\u001b[39;49m\u001b[38;5;241;43m.\u001b[39;49m\u001b[43merrors\u001b[49m\u001b[43m,\u001b[49m\u001b[43m \u001b[49m\u001b[43mfinal\u001b[49m\u001b[43m)\u001b[49m\n\u001b[1;32m    323\u001b[0m     \u001b[38;5;66;03m# keep undecoded input until the next call\u001b[39;00m\n\u001b[1;32m    324\u001b[0m     \u001b[38;5;28mself\u001b[39m\u001b[38;5;241m.\u001b[39mbuffer \u001b[38;5;241m=\u001b[39m data[consumed:]\n",
      "\u001b[0;31mUnicodeDecodeError\u001b[0m: 'utf-8' codec can't decode byte 0xb1 in position 195: invalid start byte"
     ]
    }
   ],
   "source": [
    "outdir = \"snippets/\"\n",
    "count = 0\n",
    "for file in files:\n",
    "    print(count)\n",
    "    count = extractMethodsAST(\"pyfiles/\"+file,outdir,count)"
   ]
  },
  {
   "cell_type": "code",
   "execution_count": null,
   "metadata": {},
   "outputs": [],
   "source": []
  },
  {
   "cell_type": "code",
   "execution_count": null,
   "metadata": {},
   "outputs": [],
   "source": []
  }
 ],
 "metadata": {
  "colab": {
   "provenance": []
  },
  "kernelspec": {
   "display_name": "Python 3 (ipykernel)",
   "language": "python",
   "name": "python3"
  },
  "language_info": {
   "codemirror_mode": {
    "name": "ipython",
    "version": 3
   },
   "file_extension": ".py",
   "mimetype": "text/x-python",
   "name": "python",
   "nbconvert_exporter": "python",
   "pygments_lexer": "ipython3",
   "version": "3.8.10"
  }
 },
 "nbformat": 4,
 "nbformat_minor": 1
}
