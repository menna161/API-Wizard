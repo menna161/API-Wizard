{
 "cells": [
  {
   "cell_type": "code",
   "execution_count": 25,
   "metadata": {
    "executionInfo": {
     "elapsed": 389,
     "status": "ok",
     "timestamp": 1676149895641,
     "user": {
      "displayName": "Nada El-Shenawy",
      "userId": "17781551550349938086"
     },
     "user_tz": -120
    },
    "id": "Q9zoTMafJWkf"
   },
   "outputs": [],
   "source": [
    "def extractMethods(filename,outputdir=\"/\",count = 0):\n",
    "  f = open(filename, \"r\")\n",
    "  ll = f.readlines()\n",
    "  flag = False\n",
    "  tab = 0\n",
    "  curr = []\n",
    "  fns = []\n",
    "  for i in ll:\n",
    "    # print(i.lstrip())\n",
    "    fn = i.split('def ')\n",
    "    if len(fn)>1:\n",
    "      flag = True\n",
    "      fns.append(''.join(curr))\n",
    "      tab = len(fn[0])\n",
    "      curr = []\n",
    "      curr.append(i)\n",
    "    else:\n",
    "      if len(i.lstrip())==0:\n",
    "        continue\n",
    "      if flag and len(i)-len(i.lstrip()) > tab:\n",
    "        curr.append(i)\n",
    "      else:\n",
    "        flag = False\n",
    "  if len(curr)!=0:\n",
    "    fns.append(''.join(curr))\n",
    "  for i in fns:\n",
    "    if len(i)>0:\n",
    "      count+=1\n",
    "      o = open(outputdir+\"snippet\"+str(count)+\".py\",\"w\")\n",
    "      o.write(i)\n",
    "      o.close()\n",
    "      # print(i)\n",
    "      # print('_______________')\n",
    "  return count"
   ]
  },
  {
   "cell_type": "code",
   "execution_count": 26,
   "metadata": {
    "colab": {
     "base_uri": "https://localhost:8080/"
    },
    "executionInfo": {
     "elapsed": 378,
     "status": "ok",
     "timestamp": 1676150278246,
     "user": {
      "displayName": "Nada El-Shenawy",
      "userId": "17781551550349938086"
     },
     "user_tz": -120
    },
    "id": "As_WEl8LJcN8",
    "outputId": "95837bfb-ca1c-45f9-a33c-f2fa653c6f9d"
   },
   "outputs": [],
   "source": [
    "# inputdir = \"pyfiles/\"\n",
    "files = !ls pyfiles\n",
    "outdir = \"snippets/\"\n",
    "count = 0\n",
    "# files = [\"trtools_test_tile.py\"]\n",
    "for file in files:\n",
    "  count = extractMethods(\"pyfiles/\"+file,outdir,count)"
   ]
  },
  {
   "cell_type": "code",
   "execution_count": 27,
   "metadata": {
    "colab": {
     "base_uri": "https://localhost:8080/"
    },
    "executionInfo": {
     "elapsed": 3,
     "status": "ok",
     "timestamp": 1676150094147,
     "user": {
      "displayName": "Nada El-Shenawy",
      "userId": "17781551550349938086"
     },
     "user_tz": -120
    },
    "id": "I_fQ22-pQFTt",
    "outputId": "6116b602-5a93-467d-ba6b-3b880e1af888"
   },
   "outputs": [
    {
     "name": "stdout",
     "output_type": "stream",
     "text": [
      "12119\n"
     ]
    }
   ],
   "source": [
    "print(count)"
   ]
  },
  {
   "cell_type": "code",
   "execution_count": null,
   "metadata": {},
   "outputs": [],
   "source": []
  },
  {
   "cell_type": "code",
   "execution_count": null,
   "metadata": {},
   "outputs": [],
   "source": []
  }
 ],
 "metadata": {
  "colab": {
   "authorship_tag": "ABX9TyPG9iGjDXFSboAnmQUPDShI",
   "provenance": []
  },
  "kernelspec": {
   "display_name": "Python 3 (ipykernel)",
   "language": "python",
   "name": "python3"
  },
  "language_info": {
   "codemirror_mode": {
    "name": "ipython",
    "version": 3
   },
   "file_extension": ".py",
   "mimetype": "text/x-python",
   "name": "python",
   "nbconvert_exporter": "python",
   "pygments_lexer": "ipython3",
   "version": "3.8.10"
  }
 },
 "nbformat": 4,
 "nbformat_minor": 1
}
