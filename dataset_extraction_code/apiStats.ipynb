{
  "nbformat": 4,
  "nbformat_minor": 0,
  "metadata": {
    "colab": {
      "provenance": []
    },
    "kernelspec": {
      "name": "python3",
      "display_name": "Python 3"
    },
    "language_info": {
      "name": "python"
    }
  },
  "cells": [
    {
      "cell_type": "code",
      "source": [
        "from google.colab import drive\n",
        "drive.mount('/content/drive')"
      ],
      "metadata": {
        "colab": {
          "base_uri": "https://localhost:8080/"
        },
        "id": "c_Q3eruMbBiv",
        "outputId": "fa01cc6f-fedb-4143-bcab-4fc6ad8e722c"
      },
      "execution_count": null,
      "outputs": [
        {
          "output_type": "stream",
          "name": "stdout",
          "text": [
            "Mounted at /content/drive\n"
          ]
        }
      ]
    },
    {
      "cell_type": "code",
      "execution_count": null,
      "metadata": {
        "colab": {
          "base_uri": "https://localhost:8080/"
        },
        "id": "o86Zxam771Mh",
        "outputId": "88e526be-85ea-480c-d6fa-dee666fba758"
      },
      "outputs": [
        {
          "output_type": "stream",
          "name": "stdout",
          "text": [
            "36\n"
          ]
        },
        {
          "output_type": "execute_result",
          "data": {
            "text/plain": [
              "106"
            ]
          },
          "metadata": {},
          "execution_count": 14
        }
      ],
      "source": [
        "apis=[]\n",
        "while len(apis) <=1:\n",
        "  apis=!ls drive/MyDrive/Thesis2/apis/\n",
        "  print(len(apis))\n",
        "apidirs=[]\n",
        "for i in apis:\n",
        "  y= i.split('\\t')\n",
        "  for j in y:\n",
        "    z = j.split('  ')\n",
        "    for k in z:\n",
        "      if len(k)>1:\n",
        "        apidirs.append(k.strip())\n",
        "apidirs\n",
        "len(apidirs)"
      ]
    },
    {
      "cell_type": "code",
      "source": [
        "print(apidirs)\n",
        "apidirs = sorted(apidirs)\n",
        "print(apidirs)"
      ],
      "metadata": {
        "colab": {
          "base_uri": "https://localhost:8080/"
        },
        "id": "1VyGZ6K2NGxY",
        "outputId": "9ef58dc1-0bad-4eed-ddd0-727f58275407"
      },
      "execution_count": null,
      "outputs": [
        {
          "output_type": "stream",
          "name": "stdout",
          "text": [
            "['base.clone', 'flask.request', 'randint', 'BeautifulSoup', 'flask.route', 'requests.delete', 'BinaryCrossentropy', 'flask.send_file', 'requests.exceptions', 'cbrt', 'flask.session', 'requests.get', 'classification_report', 'flask.url_for', 'requests.head', 'comb', 'get_text', 'requests.options', 'confusion_matrix', 'graph_from_dot_data', 'requests.patch', 'Conv2D', 'groupby', 'requests.post', 'cv2.contourArea', 'LinearRegression', 'requests.put', 'cv2.findContours', 'LogisticRegression', 'requests.request', 'cv2.imread', 'MaxPooling2D', 'requests.Response', 'cv2.imshow', 'MinMaxScaler', 'requests.Session', 'cv2.setMouseCallback', 'Model', 'SelectKBest', 'cv2.threshold', 'Model.get_layer', 'Sequential.add', 'datetime', 'nn.Linear', 'SGDClassifier', 'Dense', 'nn.MSELoss', 'sns.barplot', 'django.contrib.auth', 'nn.Sequential', 'sns.boxplot', 'django.db', 'np.arange', 'sns.lineplot', 'django.forms', 'np.argmax', 'sns.load_dataset', 'django.http', 'np.identity', 'sns.PairGrid', 'django.middleware', 'np.linspace', 'sns.scatterplot', 'django.shortcuts', 'np.polyfit', 'soup.find', 'django.template', 'nunique', 'soup.get_text', 'django.urls', 'optim.SGD', 'SparseCategoricalCrossentropy', 'django.utils', 'pd.cut', 'special.perm', 'django.views', 'pd.qcut', 'SVC', 'drop', 'pd.read_clipboard', 'tf.concat', 'drop_duplicates', 'pd.read_pickle', 'tf.pad', 'exp10', 'pd.unique', 'tf.random.normal', 'find_all', 'perm', 'tf.random.uniform', 'fit_transform', 'plt.figure', 'torch.randn', 'flask.abort', 'plt.plot', 'torch.randperm', 'flask.Flask', 'plt.show', 'train_test_split', 'flask.jsonify', 'plt.subplots', 'value_counts', 'flask.redirect', 'plt.text', 'flask.render_template', 'prettify']\n",
            "['BeautifulSoup', 'BinaryCrossentropy', 'Conv2D', 'Dense', 'LinearRegression', 'LogisticRegression', 'MaxPooling2D', 'MinMaxScaler', 'Model', 'Model.get_layer', 'SGDClassifier', 'SVC', 'SelectKBest', 'Sequential.add', 'SparseCategoricalCrossentropy', 'base.clone', 'cbrt', 'classification_report', 'comb', 'confusion_matrix', 'cv2.contourArea', 'cv2.findContours', 'cv2.imread', 'cv2.imshow', 'cv2.setMouseCallback', 'cv2.threshold', 'datetime', 'django.contrib.auth', 'django.db', 'django.forms', 'django.http', 'django.middleware', 'django.shortcuts', 'django.template', 'django.urls', 'django.utils', 'django.views', 'drop', 'drop_duplicates', 'exp10', 'find_all', 'fit_transform', 'flask.Flask', 'flask.abort', 'flask.jsonify', 'flask.redirect', 'flask.render_template', 'flask.request', 'flask.route', 'flask.send_file', 'flask.session', 'flask.url_for', 'get_text', 'graph_from_dot_data', 'groupby', 'nn.Linear', 'nn.MSELoss', 'nn.Sequential', 'np.arange', 'np.argmax', 'np.identity', 'np.linspace', 'np.polyfit', 'nunique', 'optim.SGD', 'pd.cut', 'pd.qcut', 'pd.read_clipboard', 'pd.read_pickle', 'pd.unique', 'perm', 'plt.figure', 'plt.plot', 'plt.show', 'plt.subplots', 'plt.text', 'prettify', 'randint', 'requests.Response', 'requests.Session', 'requests.delete', 'requests.exceptions', 'requests.get', 'requests.head', 'requests.options', 'requests.patch', 'requests.post', 'requests.put', 'requests.request', 'sns.PairGrid', 'sns.barplot', 'sns.boxplot', 'sns.lineplot', 'sns.load_dataset', 'sns.scatterplot', 'soup.find', 'soup.get_text', 'special.perm', 'tf.concat', 'tf.pad', 'tf.random.normal', 'tf.random.uniform', 'torch.randn', 'torch.randperm', 'train_test_split', 'value_counts']\n"
          ]
        }
      ]
    },
    {
      "cell_type": "code",
      "execution_count": null,
      "metadata": {
        "id": "E_lfZE6djW7-",
        "colab": {
          "base_uri": "https://localhost:8080/"
        },
        "outputId": "c5913e58-c278-4cf5-ac93-d5d4a3e9b6e9"
      },
      "outputs": [
        {
          "output_type": "stream",
          "name": "stdout",
          "text": [
            "Model.get_layer : 0\n",
            "SGDClassifier : 1\n",
            "Sequential.add : 0\n",
            "base.clone : 0\n",
            "cv2.setMouseCallback : 1\n",
            "django.forms : 0\n",
            "django.http : 1\n",
            "django.middleware : 0\n",
            "django.shortcuts : 0\n",
            "django.template : 1\n",
            "django.urls : 0\n",
            "django.utils : 0\n",
            "django.views : 1\n",
            "exp10 : 0\n",
            "flask.Flask : 1\n",
            "flask.abort : 0\n",
            "flask.redirect : 1\n",
            "flask.route : 0\n",
            "flask.send_file : 0\n",
            "flask.session : 0\n",
            "flask.url_for : 0\n",
            "graph_from_dot_data : 0\n",
            "nunique : 1\n",
            "pd.cut : 0\n",
            "pd.qcut : 0\n",
            "pd.read_clipboard : 0\n",
            "sns.PairGrid : 0\n",
            "sns.barplot : 1\n",
            "sns.load_dataset : 0\n",
            "soup.get_text : 1\n",
            "special.perm : 0\n"
          ]
        }
      ],
      "source": [
        "api_filecount=[]\n",
        "for dir in apidirs:\n",
        "  ddir = 'drive/MyDrive/Thesis2/apis/'+dir\n",
        "  x = !ls $ddir\n",
        "  xx=[]\n",
        "  for i in x:\n",
        "    y= i.split('\\t')\n",
        "    for j in y:\n",
        "      z = j.split('  ')\n",
        "      for k in z:\n",
        "        if \".py\" in k:\n",
        "          xx.append(k.strip())\n",
        "  api_filecount.append(len(xx))\n",
        "  if len(xx)<=1:\n",
        "    print(dir,\":\",len(x))"
      ]
    },
    {
      "cell_type": "code",
      "source": [
        "import numpy as np\n",
        "np.array(api_filecount)"
      ],
      "metadata": {
        "colab": {
          "base_uri": "https://localhost:8080/"
        },
        "id": "GxlfkJ7mc6qj",
        "outputId": "c5c20c57-afee-4763-ac3c-00b47a4b89e1"
      },
      "execution_count": null,
      "outputs": [
        {
          "output_type": "execute_result",
          "data": {
            "text/plain": [
              "array([  99,    2,  299,   65,    4,   11,   71,   11,  497,    0,    1,\n",
              "         57,    2,    0,    4,    0,    3,   11,    2,  119,   12,   14,\n",
              "        217,   49,    1,    5, 1657,    2,    2,    0,    1,    0,    0,\n",
              "          1,    0,    0,    1,   70,   12,    0,  146,   71,    1,    0,\n",
              "         18,    1,    2,   11,    0,    0,    0,    0,    4,    0,   63,\n",
              "        977,   67,  928,  704,  179,   48,  217,    2,    1,  110,    0,\n",
              "          0,    0,    6,    4,   27,  146,   58,  163,  102,    5,   15,\n",
              "        772,   35,   24,    3,   17,  110,    6,    2,    2,   31,    4,\n",
              "         17,    0,    1,    2,    9,    0,    7,   22,    1,    0,  293,\n",
              "         49,   17,   18,  273,   48,   44,    5])"
            ]
          },
          "metadata": {},
          "execution_count": 17
        }
      ]
    },
    {
      "cell_type": "code",
      "source": [
        "print(\"avg:\",sum(api_filecount)/len(api_filecount))"
      ],
      "metadata": {
        "colab": {
          "base_uri": "https://localhost:8080/"
        },
        "id": "jACCkfv5boi1",
        "outputId": "9f9d84c5-6d42-49fa-c841-dfc5aa9703fe"
      },
      "execution_count": null,
      "outputs": [
        {
          "output_type": "stream",
          "name": "stdout",
          "text": [
            "avg: 86.69811320754717\n"
          ]
        }
      ]
    },
    {
      "cell_type": "code",
      "source": [
        "for i in range(len(apidirs)):\n",
        "  print(apidirs[i],\":\",api_filecount[i])"
      ],
      "metadata": {
        "colab": {
          "base_uri": "https://localhost:8080/"
        },
        "id": "d-RDZvwVdBeg",
        "outputId": "ba7cf612-b604-48fc-d14a-e9495a7e92b2"
      },
      "execution_count": null,
      "outputs": [
        {
          "output_type": "stream",
          "name": "stdout",
          "text": [
            "BeautifulSoup : 99\n",
            "BinaryCrossentropy : 2\n",
            "Conv2D : 299\n",
            "Dense : 65\n",
            "LinearRegression : 4\n",
            "LogisticRegression : 11\n",
            "MaxPooling2D : 71\n",
            "MinMaxScaler : 11\n",
            "Model : 497\n",
            "Model.get_layer : 0\n",
            "SGDClassifier : 1\n",
            "SVC : 57\n",
            "SelectKBest : 2\n",
            "Sequential.add : 0\n",
            "SparseCategoricalCrossentropy : 4\n",
            "base.clone : 0\n",
            "cbrt : 3\n",
            "classification_report : 11\n",
            "comb : 2\n",
            "confusion_matrix : 119\n",
            "cv2.contourArea : 12\n",
            "cv2.findContours : 14\n",
            "cv2.imread : 217\n",
            "cv2.imshow : 49\n",
            "cv2.setMouseCallback : 1\n",
            "cv2.threshold : 5\n",
            "datetime : 1657\n",
            "django.contrib.auth : 2\n",
            "django.db : 2\n",
            "django.forms : 0\n",
            "django.http : 1\n",
            "django.middleware : 0\n",
            "django.shortcuts : 0\n",
            "django.template : 1\n",
            "django.urls : 0\n",
            "django.utils : 0\n",
            "django.views : 1\n",
            "drop : 70\n",
            "drop_duplicates : 12\n",
            "exp10 : 0\n",
            "find_all : 146\n",
            "fit_transform : 71\n",
            "flask.Flask : 1\n",
            "flask.abort : 0\n",
            "flask.jsonify : 18\n",
            "flask.redirect : 1\n",
            "flask.render_template : 2\n",
            "flask.request : 11\n",
            "flask.route : 0\n",
            "flask.send_file : 0\n",
            "flask.session : 0\n",
            "flask.url_for : 0\n",
            "get_text : 4\n",
            "graph_from_dot_data : 0\n",
            "groupby : 63\n",
            "nn.Linear : 977\n",
            "nn.MSELoss : 67\n",
            "nn.Sequential : 928\n",
            "np.arange : 704\n",
            "np.argmax : 179\n",
            "np.identity : 48\n",
            "np.linspace : 217\n",
            "np.polyfit : 2\n",
            "nunique : 1\n",
            "optim.SGD : 110\n",
            "pd.cut : 0\n",
            "pd.qcut : 0\n",
            "pd.read_clipboard : 0\n",
            "pd.read_pickle : 6\n",
            "pd.unique : 4\n",
            "perm : 27\n",
            "plt.figure : 146\n",
            "plt.plot : 58\n",
            "plt.show : 163\n",
            "plt.subplots : 102\n",
            "plt.text : 5\n",
            "prettify : 15\n",
            "randint : 772\n",
            "requests.Response : 35\n",
            "requests.Session : 24\n",
            "requests.delete : 3\n",
            "requests.exceptions : 17\n",
            "requests.get : 110\n",
            "requests.head : 6\n",
            "requests.options : 2\n",
            "requests.patch : 2\n",
            "requests.post : 31\n",
            "requests.put : 4\n",
            "requests.request : 17\n",
            "sns.PairGrid : 0\n",
            "sns.barplot : 1\n",
            "sns.boxplot : 2\n",
            "sns.lineplot : 9\n",
            "sns.load_dataset : 0\n",
            "sns.scatterplot : 7\n",
            "soup.find : 22\n",
            "soup.get_text : 1\n",
            "special.perm : 0\n",
            "tf.concat : 293\n",
            "tf.pad : 49\n",
            "tf.random.normal : 17\n",
            "tf.random.uniform : 18\n",
            "torch.randn : 273\n",
            "torch.randperm : 48\n",
            "train_test_split : 44\n",
            "value_counts : 5\n"
          ]
        }
      ]
    },
    {
      "cell_type": "code",
      "source": [],
      "metadata": {
        "id": "z4FiF_2Vj2Ph"
      },
      "execution_count": null,
      "outputs": []
    }
  ]
}